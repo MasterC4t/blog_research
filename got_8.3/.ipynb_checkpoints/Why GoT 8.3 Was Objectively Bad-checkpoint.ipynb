{
 "cells": [
  {
   "cell_type": "code",
   "execution_count": 33,
   "metadata": {},
   "outputs": [],
   "source": [
    "import pandas as pd\n",
    "import numpy as np\n",
    "import pickle"
   ]
  },
  {
   "cell_type": "code",
   "execution_count": 37,
   "metadata": {},
   "outputs": [
    {
     "data": {
      "text/html": [
       "<div>\n",
       "<style scoped>\n",
       "    .dataframe tbody tr th:only-of-type {\n",
       "        vertical-align: middle;\n",
       "    }\n",
       "\n",
       "    .dataframe tbody tr th {\n",
       "        vertical-align: top;\n",
       "    }\n",
       "\n",
       "    .dataframe thead th {\n",
       "        text-align: right;\n",
       "    }\n",
       "</style>\n",
       "<table border=\"1\" class=\"dataframe\">\n",
       "  <thead>\n",
       "    <tr style=\"text-align: right;\">\n",
       "      <th></th>\n",
       "      <th>Character</th>\n",
       "      <th>Minutes</th>\n",
       "    </tr>\n",
       "  </thead>\n",
       "  <tbody>\n",
       "    <tr>\n",
       "      <th>0</th>\n",
       "      <td>Jon Snow</td>\n",
       "      <td>338</td>\n",
       "    </tr>\n",
       "    <tr>\n",
       "      <th>1</th>\n",
       "      <td>Tyrion Lannister</td>\n",
       "      <td>337</td>\n",
       "    </tr>\n",
       "    <tr>\n",
       "      <th>2</th>\n",
       "      <td>Daenerys Targaryen</td>\n",
       "      <td>276</td>\n",
       "    </tr>\n",
       "    <tr>\n",
       "      <th>3</th>\n",
       "      <td>Sansa Stark</td>\n",
       "      <td>239</td>\n",
       "    </tr>\n",
       "    <tr>\n",
       "      <th>4</th>\n",
       "      <td>Cersei Lannister</td>\n",
       "      <td>236</td>\n",
       "    </tr>\n",
       "  </tbody>\n",
       "</table>\n",
       "</div>"
      ],
      "text/plain": [
       "            Character  Minutes\n",
       "0            Jon Snow      338\n",
       "1    Tyrion Lannister      337\n",
       "2  Daenerys Targaryen      276\n",
       "3         Sansa Stark      239\n",
       "4    Cersei Lannister      236"
      ]
     },
     "execution_count": 37,
     "metadata": {},
     "output_type": "execute_result"
    }
   ],
   "source": [
    "# Data from https://www.theatlas.com/charts/HJrdxDNKW\n",
    "got_data = pd.read_csv('got_data/got_screentime.csv')\n",
    "got_data.head()"
   ]
  },
  {
   "cell_type": "code",
   "execution_count": 38,
   "metadata": {},
   "outputs": [],
   "source": [
    "# Got the 8.3 Cast list from http://time.com/5542922/game-of-thrones-season-8-battle-of-winterfell/\n",
    "# Checking the data lines up\n",
    "x = got_data['Character'].values\n",
    "cast = ['Jon Snow','Daenerys Targaryen','Tyrion Lannister','Sansa Stark','Arya Stark',\n",
    "       'Bran Stark','Theon Greyjoy','Brienne of Tarth','Jaime Lannister','Podrick Payne',\n",
    "       'Gendry','Tormund','Davos Seaworth','Melisandre','Grey Worm','Missandei',\n",
    "       'Eddison Tollett','Samwell Tarly','Gilly','Varys','Jorah Mormont','Lyanna Mormont',\n",
    "       'Sandor Clegane','Beric Dondarrion','The Night King']\n",
    "for person in cast:\n",
    "    if person not in x:\n",
    "        print(person)"
   ]
  },
  {
   "cell_type": "code",
   "execution_count": 39,
   "metadata": {},
   "outputs": [
    {
     "data": {
      "text/html": [
       "<div>\n",
       "<style scoped>\n",
       "    .dataframe tbody tr th:only-of-type {\n",
       "        vertical-align: middle;\n",
       "    }\n",
       "\n",
       "    .dataframe tbody tr th {\n",
       "        vertical-align: top;\n",
       "    }\n",
       "\n",
       "    .dataframe thead th {\n",
       "        text-align: right;\n",
       "    }\n",
       "</style>\n",
       "<table border=\"1\" class=\"dataframe\">\n",
       "  <thead>\n",
       "    <tr style=\"text-align: right;\">\n",
       "      <th></th>\n",
       "      <th>Character</th>\n",
       "      <th>Minutes</th>\n",
       "      <th>Dead</th>\n",
       "      <th>8.3</th>\n",
       "    </tr>\n",
       "  </thead>\n",
       "  <tbody>\n",
       "    <tr>\n",
       "      <th>0</th>\n",
       "      <td>Jon Snow</td>\n",
       "      <td>338</td>\n",
       "      <td>False</td>\n",
       "      <td>True</td>\n",
       "    </tr>\n",
       "    <tr>\n",
       "      <th>1</th>\n",
       "      <td>Tyrion Lannister</td>\n",
       "      <td>337</td>\n",
       "      <td>False</td>\n",
       "      <td>True</td>\n",
       "    </tr>\n",
       "    <tr>\n",
       "      <th>2</th>\n",
       "      <td>Daenerys Targaryen</td>\n",
       "      <td>276</td>\n",
       "      <td>False</td>\n",
       "      <td>True</td>\n",
       "    </tr>\n",
       "    <tr>\n",
       "      <th>3</th>\n",
       "      <td>Sansa Stark</td>\n",
       "      <td>239</td>\n",
       "      <td>False</td>\n",
       "      <td>True</td>\n",
       "    </tr>\n",
       "    <tr>\n",
       "      <th>4</th>\n",
       "      <td>Cersei Lannister</td>\n",
       "      <td>236</td>\n",
       "      <td>False</td>\n",
       "      <td>False</td>\n",
       "    </tr>\n",
       "  </tbody>\n",
       "</table>\n",
       "</div>"
      ],
      "text/plain": [
       "            Character  Minutes   Dead    8.3\n",
       "0            Jon Snow      338  False   True\n",
       "1    Tyrion Lannister      337  False   True\n",
       "2  Daenerys Targaryen      276  False   True\n",
       "3         Sansa Stark      239  False   True\n",
       "4    Cersei Lannister      236  False  False"
      ]
     },
     "execution_count": 39,
     "metadata": {},
     "output_type": "execute_result"
    }
   ],
   "source": [
    "def is_dead(row):\n",
    "    if '*' in row['Character']:\n",
    "        return True\n",
    "    else:\n",
    "        return False\n",
    "    \n",
    "def is_in_battle_of_winterfell(row):\n",
    "    cast = ['Jon Snow','Daenerys Targaryen','Tyrion Lannister','Sansa Stark','Arya Stark',\n",
    "           'Bran Stark','Theon Greyjoy','Brienne of Tarth','Jaime Lannister','Podrick Payne',\n",
    "           'Gendry','Tormund','Davos Seaworth','Melisandre','Grey Worm','Missandei',\n",
    "           'Eddison Tollett','Samwell Tarly','Gilly','Varys','Jorah Mormont','Lyanna Mormont',\n",
    "           'Sandor Clegane','Beric Dondarrion','The Night King']\n",
    "    if row['Character'] in cast:\n",
    "        return True\n",
    "    else:\n",
    "        return False\n",
    "    \n",
    "got_data['Dead'] = got_data.apply (lambda row: is_dead(row), axis=1)\n",
    "got_data['8.3'] = got_data.apply (lambda row: is_in_battle_of_winterfell(row), axis=1)\n",
    "got_data.head()"
   ]
  },
  {
   "cell_type": "code",
   "execution_count": 40,
   "metadata": {},
   "outputs": [
    {
     "data": {
      "text/html": [
       "<div>\n",
       "<style scoped>\n",
       "    .dataframe tbody tr th:only-of-type {\n",
       "        vertical-align: middle;\n",
       "    }\n",
       "\n",
       "    .dataframe tbody tr th {\n",
       "        vertical-align: top;\n",
       "    }\n",
       "\n",
       "    .dataframe thead th {\n",
       "        text-align: right;\n",
       "    }\n",
       "</style>\n",
       "<table border=\"1\" class=\"dataframe\">\n",
       "  <thead>\n",
       "    <tr style=\"text-align: right;\">\n",
       "      <th></th>\n",
       "      <th>Character</th>\n",
       "      <th>Minutes</th>\n",
       "      <th>Dead</th>\n",
       "      <th>8.3</th>\n",
       "    </tr>\n",
       "  </thead>\n",
       "  <tbody>\n",
       "    <tr>\n",
       "      <th>10</th>\n",
       "      <td>Petyr Baelish*</td>\n",
       "      <td>119</td>\n",
       "      <td>True</td>\n",
       "      <td>False</td>\n",
       "    </tr>\n",
       "    <tr>\n",
       "      <th>12</th>\n",
       "      <td>Ned Stark*</td>\n",
       "      <td>100</td>\n",
       "      <td>True</td>\n",
       "      <td>False</td>\n",
       "    </tr>\n",
       "    <tr>\n",
       "      <th>17</th>\n",
       "      <td>Catelyn Stark*</td>\n",
       "      <td>83</td>\n",
       "      <td>True</td>\n",
       "      <td>False</td>\n",
       "    </tr>\n",
       "    <tr>\n",
       "      <th>18</th>\n",
       "      <td>Tywin Lannister*</td>\n",
       "      <td>78</td>\n",
       "      <td>True</td>\n",
       "      <td>False</td>\n",
       "    </tr>\n",
       "    <tr>\n",
       "      <th>19</th>\n",
       "      <td>Margaery Tyrell*</td>\n",
       "      <td>78</td>\n",
       "      <td>True</td>\n",
       "      <td>False</td>\n",
       "    </tr>\n",
       "  </tbody>\n",
       "</table>\n",
       "</div>"
      ],
      "text/plain": [
       "           Character  Minutes  Dead    8.3\n",
       "10    Petyr Baelish*      119  True  False\n",
       "12        Ned Stark*      100  True  False\n",
       "17    Catelyn Stark*       83  True  False\n",
       "18  Tywin Lannister*       78  True  False\n",
       "19  Margaery Tyrell*       78  True  False"
      ]
     },
     "execution_count": 40,
     "metadata": {},
     "output_type": "execute_result"
    }
   ],
   "source": [
    "dead_people = got_data[got_data.Dead == True]\n",
    "dead_people.head()"
   ]
  },
  {
   "cell_type": "code",
   "execution_count": 35,
   "metadata": {},
   "outputs": [],
   "source": [
    "with open('got_data/death_dict.pickle', 'rb') as handle:\n",
    "    death_dict = pickle.load(handle)"
   ]
  },
  {
   "cell_type": "code",
   "execution_count": 36,
   "metadata": {},
   "outputs": [
    {
     "ename": "KeyError",
     "evalue": "'sdf'",
     "output_type": "error",
     "traceback": [
      "\u001b[0;31m---------------------------------------------------------------------------\u001b[0m",
      "\u001b[0;31mKeyError\u001b[0m                                  Traceback (most recent call last)",
      "\u001b[0;32m<ipython-input-36-b7c89582e547>\u001b[0m in \u001b[0;36m<module>\u001b[0;34m()\u001b[0m\n\u001b[0;32m----> 1\u001b[0;31m \u001b[0mdeath_dict\u001b[0m\u001b[0;34m[\u001b[0m\u001b[0;34m'sdf'\u001b[0m\u001b[0;34m]\u001b[0m\u001b[0;34m\u001b[0m\u001b[0m\n\u001b[0m",
      "\u001b[0;31mKeyError\u001b[0m: 'sdf'"
     ]
    }
   ],
   "source": [
    "dead_x = dead_people['Character']"
   ]
  },
  {
   "cell_type": "code",
   "execution_count": null,
   "metadata": {},
   "outputs": [],
   "source": []
  }
 ],
 "metadata": {
  "kernelspec": {
   "display_name": "Python 3",
   "language": "python",
   "name": "python3"
  },
  "language_info": {
   "codemirror_mode": {
    "name": "ipython",
    "version": 3
   },
   "file_extension": ".py",
   "mimetype": "text/x-python",
   "name": "python",
   "nbconvert_exporter": "python",
   "pygments_lexer": "ipython3",
   "version": "3.6.5"
  }
 },
 "nbformat": 4,
 "nbformat_minor": 2
}
