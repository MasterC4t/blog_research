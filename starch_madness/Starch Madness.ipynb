{
 "cells": [
  {
   "cell_type": "code",
   "execution_count": 1,
   "metadata": {},
   "outputs": [],
   "source": [
    "import pandas as pd\n",
    "import numpy as np\n",
    "import matplotlib.pyplot as plt"
   ]
  },
  {
   "cell_type": "code",
   "execution_count": 2,
   "metadata": {},
   "outputs": [
    {
     "data": {
      "text/html": [
       "<div>\n",
       "<style scoped>\n",
       "    .dataframe tbody tr th:only-of-type {\n",
       "        vertical-align: middle;\n",
       "    }\n",
       "\n",
       "    .dataframe tbody tr th {\n",
       "        vertical-align: top;\n",
       "    }\n",
       "\n",
       "    .dataframe thead th {\n",
       "        text-align: right;\n",
       "    }\n",
       "</style>\n",
       "<table border=\"1\" class=\"dataframe\">\n",
       "  <thead>\n",
       "    <tr style=\"text-align: right;\">\n",
       "      <th></th>\n",
       "      <th>Real Names</th>\n",
       "      <th>Fake Names</th>\n",
       "      <th>Flavor</th>\n",
       "      <th>Appearance</th>\n",
       "      <th>Texture</th>\n",
       "      <th>TOTAL</th>\n",
       "      <th>Price</th>\n",
       "      <th>Date</th>\n",
       "      <th>Temp</th>\n",
       "      <th>DoW</th>\n",
       "      <th>Comedy?</th>\n",
       "      <th>Distance</th>\n",
       "      <th>Yelp</th>\n",
       "    </tr>\n",
       "  </thead>\n",
       "  <tbody>\n",
       "    <tr>\n",
       "      <th>0</th>\n",
       "      <td>Little Ruby</td>\n",
       "      <td>Los Pollos Hermanos (Breaking Bad)</td>\n",
       "      <td>4.66</td>\n",
       "      <td>4.50</td>\n",
       "      <td>4.16</td>\n",
       "      <td>4.44</td>\n",
       "      <td>6.61</td>\n",
       "      <td>2019-02-19</td>\n",
       "      <td>60</td>\n",
       "      <td>Tues</td>\n",
       "      <td>0</td>\n",
       "      <td>341.2</td>\n",
       "      <td>4.0</td>\n",
       "    </tr>\n",
       "    <tr>\n",
       "      <th>1</th>\n",
       "      <td>burger lounge</td>\n",
       "      <td>Paddy's Irish Pub (It's Always Sunny in Philad...</td>\n",
       "      <td>3.92</td>\n",
       "      <td>3.92</td>\n",
       "      <td>3.92</td>\n",
       "      <td>3.92</td>\n",
       "      <td>4.13</td>\n",
       "      <td>2019-03-07</td>\n",
       "      <td>61</td>\n",
       "      <td>Thurs</td>\n",
       "      <td>1</td>\n",
       "      <td>1056.0</td>\n",
       "      <td>4.0</td>\n",
       "    </tr>\n",
       "    <tr>\n",
       "      <th>2</th>\n",
       "      <td>The Great American Fries</td>\n",
       "      <td>The Leaky Cauldron (Harry Potter)</td>\n",
       "      <td>3.86</td>\n",
       "      <td>3.29</td>\n",
       "      <td>3.86</td>\n",
       "      <td>3.67</td>\n",
       "      <td>7.17</td>\n",
       "      <td>2019-02-25</td>\n",
       "      <td>64</td>\n",
       "      <td>Mon</td>\n",
       "      <td>0</td>\n",
       "      <td>2112.0</td>\n",
       "      <td>4.5</td>\n",
       "    </tr>\n",
       "    <tr>\n",
       "      <th>3</th>\n",
       "      <td>barney's beanery</td>\n",
       "      <td>Mos Eisley Cantina (Star Wars)</td>\n",
       "      <td>3.42</td>\n",
       "      <td>3.57</td>\n",
       "      <td>3.29</td>\n",
       "      <td>3.43</td>\n",
       "      <td>7.50</td>\n",
       "      <td>2019-02-25</td>\n",
       "      <td>64</td>\n",
       "      <td>Mon</td>\n",
       "      <td>0</td>\n",
       "      <td>528.0</td>\n",
       "      <td>3.0</td>\n",
       "    </tr>\n",
       "    <tr>\n",
       "      <th>4</th>\n",
       "      <td>Independence</td>\n",
       "      <td>Freddy's BBQ Joint (House of Cards)</td>\n",
       "      <td>2.83</td>\n",
       "      <td>3.83</td>\n",
       "      <td>3.16</td>\n",
       "      <td>3.27</td>\n",
       "      <td>5.51</td>\n",
       "      <td>2019-02-19</td>\n",
       "      <td>60</td>\n",
       "      <td>Tues</td>\n",
       "      <td>0</td>\n",
       "      <td>540.0</td>\n",
       "      <td>4.0</td>\n",
       "    </tr>\n",
       "  </tbody>\n",
       "</table>\n",
       "</div>"
      ],
      "text/plain": [
       "                 Real Names  \\\n",
       "0               Little Ruby   \n",
       "1             burger lounge   \n",
       "2  The Great American Fries   \n",
       "3          barney's beanery   \n",
       "4              Independence   \n",
       "\n",
       "                                          Fake Names  Flavor  Appearance  \\\n",
       "0                 Los Pollos Hermanos (Breaking Bad)    4.66        4.50   \n",
       "1  Paddy's Irish Pub (It's Always Sunny in Philad...    3.92        3.92   \n",
       "2                  The Leaky Cauldron (Harry Potter)    3.86        3.29   \n",
       "3                     Mos Eisley Cantina (Star Wars)    3.42        3.57   \n",
       "4                Freddy's BBQ Joint (House of Cards)    2.83        3.83   \n",
       "\n",
       "   Texture  TOTAL  Price       Date  Temp    DoW  Comedy?  Distance  Yelp  \n",
       "0     4.16   4.44   6.61 2019-02-19    60   Tues        0     341.2   4.0  \n",
       "1     3.92   3.92   4.13 2019-03-07    61  Thurs        1    1056.0   4.0  \n",
       "2     3.86   3.67   7.17 2019-02-25    64    Mon        0    2112.0   4.5  \n",
       "3     3.29   3.43   7.50 2019-02-25    64    Mon        0     528.0   3.0  \n",
       "4     3.16   3.27   5.51 2019-02-19    60   Tues        0     540.0   4.0  "
      ]
     },
     "execution_count": 2,
     "metadata": {},
     "output_type": "execute_result"
    }
   ],
   "source": [
    "starch_pd = pd.read_excel('starch_data/starch.xlsx',header=0)\n",
    "starch_pd.head()"
   ]
  },
  {
   "cell_type": "code",
   "execution_count": 3,
   "metadata": {},
   "outputs": [],
   "source": [
    "price = starch_pd.Price\n",
    "score = starch_pd.TOTAL"
   ]
  },
  {
   "cell_type": "code",
   "execution_count": 4,
   "metadata": {},
   "outputs": [
    {
     "data": {
      "image/png": "[encoded data removed]",
      "text/plain": [
       "<Figure size 432x288 with 1 Axes>"
      ]
     },
     "metadata": {},
     "output_type": "display_data"
    }
   ],
   "source": [
    "my_plt = plt.subplot(111)\n",
    "my_plt.spines['right'].set_visible(False)\n",
    "my_plt.spines['top'].set_visible(False)\n",
    "my_plt.scatter(price,score)\n",
    "plt.xlabel('Price ($)')\n",
    "plt.ylabel('F.A.T Score')\n",
    "plt.title('Does higher price mean better quality?')\n",
    "plt.show()"
   ]
  },
  {
   "cell_type": "code",
   "execution_count": 5,
   "metadata": {},
   "outputs": [
    {
     "data": {
      "text/plain": [
       "-0.08246384728682529"
      ]
     },
     "execution_count": 5,
     "metadata": {},
     "output_type": "execute_result"
    }
   ],
   "source": [
    "price.corr(score)"
   ]
  },
  {
   "cell_type": "code",
   "execution_count": 6,
   "metadata": {},
   "outputs": [
    {
     "data": {
      "text/plain": [
       "0.39976928723510907"
      ]
     },
     "execution_count": 6,
     "metadata": {},
     "output_type": "execute_result"
    }
   ],
   "source": [
    "price[:-1].corr(score[:-1])"
   ]
  },
  {
   "cell_type": "code",
   "execution_count": 7,
   "metadata": {},
   "outputs": [],
   "source": [
    "from scipy.optimize import curve_fit\n",
    "\n",
    "def f(x, A, B): # this is your 'straight line' y=f(x)\n",
    "    return A*x + B\n",
    "\n",
    "A,B = curve_fit(f, price, score)[0] # your data x, y to fit"
   ]
  },
  {
   "cell_type": "code",
   "execution_count": 8,
   "metadata": {},
   "outputs": [
    {
     "data": {
      "image/png": "[encoded data removed]",
      "text/plain": [
       "<Figure size 432x288 with 1 Axes>"
      ]
     },
     "metadata": {},
     "output_type": "display_data"
    }
   ],
   "source": [
    "A,B = curve_fit(f, price, score)[0] # your data x, y to fit\n",
    "A2,B2 = curve_fit(f, price[:-1], score[:-1])[0] # your data x, y to fit\n",
    "x_lin = np.linspace(0,max(price)+0.5,100)\n",
    "\n",
    "my_plt = plt.subplot(111)\n",
    "my_plt.spines['right'].set_visible(False)\n",
    "my_plt.spines['top'].set_visible(False)\n",
    "my_plt.scatter(price,score, color='blue', label=None)\n",
    "my_plt.plot(x_lin,f(x_lin,A,B),color='green',label='Fit Line')\n",
    "my_plt.plot(x_lin,f(x_lin,A2,B2),color='purple',label='Fit Line, no Misfit')\n",
    "my_plt.plot([0,max(price)+0.5],[2.43,2.43],color='lightgrey',\n",
    "            label='McDonald\\'s Line',linestyle='--')\n",
    "plt.xlabel('Price ($)')\n",
    "plt.xlim(xmin=0)\n",
    "plt.ylabel('F.A.T Score')\n",
    "plt.title('Does higher price mean better quality?')\n",
    "plt.legend()\n",
    "plt.show()"
   ]
  },
  {
   "cell_type": "code",
   "execution_count": 9,
   "metadata": {},
   "outputs": [],
   "source": [
    "starch_pd['Bang4Buck'] = starch_pd.TOTAL / starch_pd.Price"
   ]
  },
  {
   "cell_type": "code",
   "execution_count": 10,
   "metadata": {},
   "outputs": [],
   "source": [
    "frugal_pd = starch_pd.sort_values('Bang4Buck',ascending=False)[['Real Names','Bang4Buck']]"
   ]
  },
  {
   "cell_type": "code",
   "execution_count": 11,
   "metadata": {},
   "outputs": [
    {
     "data": {
      "image/png": "[encoded data removed]",
      "text/plain": [
       "<Figure size 432x288 with 1 Axes>"
      ]
     },
     "metadata": {},
     "output_type": "display_data"
    }
   ],
   "source": [
    "my_plt = plt.subplot(111)\n",
    "my_plt.bar(frugal_pd['Real Names'],frugal_pd.Bang4Buck)\n",
    "my_plt.spines['right'].set_visible(False)\n",
    "my_plt.spines['top'].set_visible(False)\n",
    "plt.xticks(rotation=75)\n",
    "plt.tick_params(axis='both', which='both', bottom=False, top=False, left=False)\n",
    "plt.title('How much does Fry Quality increase per Dollar Spent?')\n",
    "plt.ylabel('Score over Price')\n",
    "plt.show()"
   ]
  },
  {
   "cell_type": "code",
   "execution_count": 12,
   "metadata": {},
   "outputs": [
    {
     "data": {
      "text/html": [
       "<div>\n",
       "<style scoped>\n",
       "    .dataframe tbody tr th:only-of-type {\n",
       "        vertical-align: middle;\n",
       "    }\n",
       "\n",
       "    .dataframe tbody tr th {\n",
       "        vertical-align: top;\n",
       "    }\n",
       "\n",
       "    .dataframe thead th {\n",
       "        text-align: right;\n",
       "    }\n",
       "</style>\n",
       "<table border=\"1\" class=\"dataframe\">\n",
       "  <thead>\n",
       "    <tr style=\"text-align: right;\">\n",
       "      <th></th>\n",
       "      <th>Real Names</th>\n",
       "      <th>Bang4Buck</th>\n",
       "    </tr>\n",
       "  </thead>\n",
       "  <tbody>\n",
       "    <tr>\n",
       "      <th>7</th>\n",
       "      <td>McDonalds</td>\n",
       "      <td>1.306452</td>\n",
       "    </tr>\n",
       "    <tr>\n",
       "      <th>1</th>\n",
       "      <td>burger lounge</td>\n",
       "      <td>0.949153</td>\n",
       "    </tr>\n",
       "    <tr>\n",
       "      <th>5</th>\n",
       "      <td>hi ho burger</td>\n",
       "      <td>0.726392</td>\n",
       "    </tr>\n",
       "    <tr>\n",
       "      <th>0</th>\n",
       "      <td>Little Ruby</td>\n",
       "      <td>0.671710</td>\n",
       "    </tr>\n",
       "    <tr>\n",
       "      <th>4</th>\n",
       "      <td>Independence</td>\n",
       "      <td>0.593466</td>\n",
       "    </tr>\n",
       "  </tbody>\n",
       "</table>\n",
       "</div>"
      ],
      "text/plain": [
       "      Real Names  Bang4Buck\n",
       "7      McDonalds   1.306452\n",
       "1  burger lounge   0.949153\n",
       "5   hi ho burger   0.726392\n",
       "0    Little Ruby   0.671710\n",
       "4   Independence   0.593466"
      ]
     },
     "execution_count": 12,
     "metadata": {},
     "output_type": "execute_result"
    }
   ],
   "source": [
    "frugal_pd.head()"
   ]
  },
  {
   "cell_type": "code",
   "execution_count": 13,
   "metadata": {},
   "outputs": [
    {
     "data": {
      "text/plain": [
       "0.3772391991570074"
      ]
     },
     "execution_count": 13,
     "metadata": {},
     "output_type": "execute_result"
    }
   ],
   "source": [
    "(1.307 - 0.949)/0.949"
   ]
  },
  {
   "cell_type": "code",
   "execution_count": 14,
   "metadata": {},
   "outputs": [],
   "source": [
    "def expf(x, A, C, D): # exp line f(x)\n",
    "    return A*np.exp(-D*x)+D"
   ]
  },
  {
   "cell_type": "code",
   "execution_count": 15,
   "metadata": {},
   "outputs": [
    {
     "name": "stderr",
     "output_type": "stream",
     "text": [
      "/anaconda3/lib/python3.6/site-packages/scipy/optimize/minpack.py:794: OptimizeWarning: Covariance of the parameters could not be estimated\n",
      "  category=OptimizeWarning)\n"
     ]
    },
    {
     "data": {
      "image/png": "[encoded data removed]",
      "text/plain": [
       "<Figure size 432x288 with 1 Axes>"
      ]
     },
     "metadata": {},
     "output_type": "display_data"
    }
   ],
   "source": [
    "distance = starch_pd.Distance\n",
    "\n",
    "A,B = curve_fit(f, distance, score)[0] \n",
    "A2,B2 = curve_fit(f, distance[:-1], score[:-1])[0] \n",
    "A3,C3,D3 = curve_fit(expf, distance[:-1], score[:-1])[0] \n",
    "x_lin = np.linspace(0,max(distance)+0.5,100)\n",
    "\n",
    "\n",
    "my_plt = plt.subplot(111)\n",
    "my_plt.spines['right'].set_visible(False)\n",
    "my_plt.spines['top'].set_visible(False)\n",
    "my_plt.scatter(distance,score, color='aqua',edgecolors='black',label=None)\n",
    "# my_plt.plot(x_lin,f(x_lin,A,B),color='green',label='Fit Line')\n",
    "# my_plt.plot(x_lin,expf(x_lin,A2,C2,D2),color='purple',label='Fit Line, no Misfit')\n",
    "my_plt.plot([0,max(distance)+0.5],[2.43,2.43],color='lightgrey',\n",
    "            label='McDonald\\'s Line',linestyle='--')\n",
    "my_plt.plot([np.mean(distance),np.mean(distance)],[min(score),max(score)],color='lightgrey',\n",
    "            label='Average Distance',linestyle='--')\n",
    "plt.xlabel('Distance (ft)')\n",
    "plt.xlim(xmin=0)\n",
    "plt.ylabel('F.A.T Score')\n",
    "plt.title('Does Distance imply Quality?')\n",
    "plt.legend()\n",
    "plt.show()"
   ]
  },
  {
   "cell_type": "code",
   "execution_count": null,
   "metadata": {},
   "outputs": [],
   "source": []
  },
  {
   "cell_type": "code",
   "execution_count": 16,
   "metadata": {},
   "outputs": [
    {
     "data": {
      "text/plain": [
       "(0.10164205188017617, -0.00041581072717498203)"
      ]
     },
     "execution_count": 16,
     "metadata": {},
     "output_type": "execute_result"
    }
   ],
   "source": [
    "from sklearn.metrics import r2_score\n",
    "\n",
    "r2_score(score[:-1],f(distance[:-1],A2,B2)), A2"
   ]
  },
  {
   "cell_type": "code",
   "execution_count": 17,
   "metadata": {},
   "outputs": [],
   "source": [
    "from scipy.stats import ttest_ind"
   ]
  },
  {
   "cell_type": "code",
   "execution_count": 18,
   "metadata": {},
   "outputs": [],
   "source": [
    "comedy = starch_pd[starch_pd['Comedy?'] == 1].TOTAL.values\n",
    "serious = starch_pd[starch_pd['Comedy?'] == 0].TOTAL.values"
   ]
  },
  {
   "cell_type": "code",
   "execution_count": 19,
   "metadata": {},
   "outputs": [],
   "source": [
    "from scipy.stats import ttest_ind\n",
    "\n",
    "stat, pvalue = ttest_ind(comedy, serious)"
   ]
  },
  {
   "cell_type": "code",
   "execution_count": 20,
   "metadata": {},
   "outputs": [
    {
     "data": {
      "text/plain": [
       "0.529054428327496"
      ]
     },
     "execution_count": 20,
     "metadata": {},
     "output_type": "execute_result"
    }
   ],
   "source": [
    "pvalue"
   ]
  },
  {
   "cell_type": "code",
   "execution_count": 21,
   "metadata": {},
   "outputs": [],
   "source": [
    "hot = starch_pd[starch_pd.Temp > 60].TOTAL.values\n",
    "col = starch_pd[starch_pd.Temp <= 60].TOTAL.values"
   ]
  },
  {
   "cell_type": "code",
   "execution_count": 22,
   "metadata": {},
   "outputs": [
    {
     "data": {
      "text/plain": [
       "(6, 6)"
      ]
     },
     "execution_count": 22,
     "metadata": {},
     "output_type": "execute_result"
    }
   ],
   "source": [
    "len(hot),len(col)"
   ]
  },
  {
   "cell_type": "code",
   "execution_count": 23,
   "metadata": {},
   "outputs": [],
   "source": [
    "stat, pvalue = ttest_ind(hot, col)"
   ]
  },
  {
   "cell_type": "code",
   "execution_count": 24,
   "metadata": {},
   "outputs": [
    {
     "data": {
      "text/plain": [
       "0.7496965512815397"
      ]
     },
     "execution_count": 24,
     "metadata": {},
     "output_type": "execute_result"
    }
   ],
   "source": [
    "pvalue"
   ]
  },
  {
   "cell_type": "code",
   "execution_count": 25,
   "metadata": {},
   "outputs": [],
   "source": [
    "fri = starch_pd[starch_pd.DoW == 'Fri'].TOTAL.values\n",
    "non_fri = starch_pd[starch_pd.DoW != 'Fri'].TOTAL.values"
   ]
  },
  {
   "cell_type": "code",
   "execution_count": 26,
   "metadata": {},
   "outputs": [],
   "source": [
    "stat, pvalue = ttest_ind(fri, non_fri)"
   ]
  },
  {
   "cell_type": "code",
   "execution_count": 27,
   "metadata": {},
   "outputs": [
    {
     "data": {
      "text/plain": [
       "0.550657787491875"
      ]
     },
     "execution_count": 27,
     "metadata": {},
     "output_type": "execute_result"
    }
   ],
   "source": [
    "pvalue"
   ]
  },
  {
   "cell_type": "code",
   "execution_count": 28,
   "metadata": {},
   "outputs": [],
   "source": [
    "yelp = starch_pd.Yelp"
   ]
  },
  {
   "cell_type": "code",
   "execution_count": 29,
   "metadata": {},
   "outputs": [
    {
     "data": {
      "text/html": [
       "<div>\n",
       "<style scoped>\n",
       "    .dataframe tbody tr th:only-of-type {\n",
       "        vertical-align: middle;\n",
       "    }\n",
       "\n",
       "    .dataframe tbody tr th {\n",
       "        vertical-align: top;\n",
       "    }\n",
       "\n",
       "    .dataframe thead th {\n",
       "        text-align: right;\n",
       "    }\n",
       "</style>\n",
       "<table border=\"1\" class=\"dataframe\">\n",
       "  <thead>\n",
       "    <tr style=\"text-align: right;\">\n",
       "      <th></th>\n",
       "      <th>Real Names</th>\n",
       "      <th>Fake Names</th>\n",
       "      <th>Flavor</th>\n",
       "      <th>Appearance</th>\n",
       "      <th>Texture</th>\n",
       "      <th>TOTAL</th>\n",
       "      <th>Price</th>\n",
       "      <th>Date</th>\n",
       "      <th>Temp</th>\n",
       "      <th>DoW</th>\n",
       "      <th>Comedy?</th>\n",
       "      <th>Distance</th>\n",
       "      <th>Yelp</th>\n",
       "      <th>Bang4Buck</th>\n",
       "    </tr>\n",
       "  </thead>\n",
       "  <tbody>\n",
       "    <tr>\n",
       "      <th>0</th>\n",
       "      <td>Little Ruby</td>\n",
       "      <td>Los Pollos Hermanos (Breaking Bad)</td>\n",
       "      <td>4.66</td>\n",
       "      <td>4.50</td>\n",
       "      <td>4.16</td>\n",
       "      <td>4.44</td>\n",
       "      <td>6.61</td>\n",
       "      <td>2019-02-19</td>\n",
       "      <td>60</td>\n",
       "      <td>Tues</td>\n",
       "      <td>0</td>\n",
       "      <td>341.2</td>\n",
       "      <td>4.0</td>\n",
       "      <td>0.671710</td>\n",
       "    </tr>\n",
       "    <tr>\n",
       "      <th>1</th>\n",
       "      <td>burger lounge</td>\n",
       "      <td>Paddy's Irish Pub (It's Always Sunny in Philad...</td>\n",
       "      <td>3.92</td>\n",
       "      <td>3.92</td>\n",
       "      <td>3.92</td>\n",
       "      <td>3.92</td>\n",
       "      <td>4.13</td>\n",
       "      <td>2019-03-07</td>\n",
       "      <td>61</td>\n",
       "      <td>Thurs</td>\n",
       "      <td>1</td>\n",
       "      <td>1056.0</td>\n",
       "      <td>4.0</td>\n",
       "      <td>0.949153</td>\n",
       "    </tr>\n",
       "    <tr>\n",
       "      <th>2</th>\n",
       "      <td>The Great American Fries</td>\n",
       "      <td>The Leaky Cauldron (Harry Potter)</td>\n",
       "      <td>3.86</td>\n",
       "      <td>3.29</td>\n",
       "      <td>3.86</td>\n",
       "      <td>3.67</td>\n",
       "      <td>7.17</td>\n",
       "      <td>2019-02-25</td>\n",
       "      <td>64</td>\n",
       "      <td>Mon</td>\n",
       "      <td>0</td>\n",
       "      <td>2112.0</td>\n",
       "      <td>4.5</td>\n",
       "      <td>0.511855</td>\n",
       "    </tr>\n",
       "    <tr>\n",
       "      <th>3</th>\n",
       "      <td>barney's beanery</td>\n",
       "      <td>Mos Eisley Cantina (Star Wars)</td>\n",
       "      <td>3.42</td>\n",
       "      <td>3.57</td>\n",
       "      <td>3.29</td>\n",
       "      <td>3.43</td>\n",
       "      <td>7.50</td>\n",
       "      <td>2019-02-25</td>\n",
       "      <td>64</td>\n",
       "      <td>Mon</td>\n",
       "      <td>0</td>\n",
       "      <td>528.0</td>\n",
       "      <td>3.0</td>\n",
       "      <td>0.457333</td>\n",
       "    </tr>\n",
       "    <tr>\n",
       "      <th>4</th>\n",
       "      <td>Independence</td>\n",
       "      <td>Freddy's BBQ Joint (House of Cards)</td>\n",
       "      <td>2.83</td>\n",
       "      <td>3.83</td>\n",
       "      <td>3.16</td>\n",
       "      <td>3.27</td>\n",
       "      <td>5.51</td>\n",
       "      <td>2019-02-19</td>\n",
       "      <td>60</td>\n",
       "      <td>Tues</td>\n",
       "      <td>0</td>\n",
       "      <td>540.0</td>\n",
       "      <td>4.0</td>\n",
       "      <td>0.593466</td>\n",
       "    </tr>\n",
       "    <tr>\n",
       "      <th>5</th>\n",
       "      <td>hi ho burger</td>\n",
       "      <td>Krusty Krab (Spongebob)</td>\n",
       "      <td>3.66</td>\n",
       "      <td>3.00</td>\n",
       "      <td>2.33</td>\n",
       "      <td>3.00</td>\n",
       "      <td>4.13</td>\n",
       "      <td>2019-02-09</td>\n",
       "      <td>58</td>\n",
       "      <td>Fri</td>\n",
       "      <td>1</td>\n",
       "      <td>520.0</td>\n",
       "      <td>4.5</td>\n",
       "      <td>0.726392</td>\n",
       "    </tr>\n",
       "    <tr>\n",
       "      <th>6</th>\n",
       "      <td>plan check</td>\n",
       "      <td>Bob's Burgers (Bob's Burgers)</td>\n",
       "      <td>3.16</td>\n",
       "      <td>2.83</td>\n",
       "      <td>2.16</td>\n",
       "      <td>2.72</td>\n",
       "      <td>8.88</td>\n",
       "      <td>2019-02-09</td>\n",
       "      <td>58</td>\n",
       "      <td>Fri</td>\n",
       "      <td>1</td>\n",
       "      <td>528.0</td>\n",
       "      <td>4.0</td>\n",
       "      <td>0.306306</td>\n",
       "    </tr>\n",
       "    <tr>\n",
       "      <th>7</th>\n",
       "      <td>McDonalds</td>\n",
       "      <td>JJ's Diner (Parks and Recreation)</td>\n",
       "      <td>2.43</td>\n",
       "      <td>2.43</td>\n",
       "      <td>2.43</td>\n",
       "      <td>2.43</td>\n",
       "      <td>1.86</td>\n",
       "      <td>2019-03-07</td>\n",
       "      <td>61</td>\n",
       "      <td>Thurs</td>\n",
       "      <td>1</td>\n",
       "      <td>1056.0</td>\n",
       "      <td>2.5</td>\n",
       "      <td>1.306452</td>\n",
       "    </tr>\n",
       "    <tr>\n",
       "      <th>8</th>\n",
       "      <td>Johnny Rockets</td>\n",
       "      <td>Dorsia (American Psycho)</td>\n",
       "      <td>2.16</td>\n",
       "      <td>2.83</td>\n",
       "      <td>2.00</td>\n",
       "      <td>2.33</td>\n",
       "      <td>4.29</td>\n",
       "      <td>2019-02-19</td>\n",
       "      <td>60</td>\n",
       "      <td>Tues</td>\n",
       "      <td>0</td>\n",
       "      <td>1056.0</td>\n",
       "      <td>2.0</td>\n",
       "      <td>0.543124</td>\n",
       "    </tr>\n",
       "    <tr>\n",
       "      <th>9</th>\n",
       "      <td>Umami</td>\n",
       "      <td>Jack Rabbit Slims (Pulp Fiction)</td>\n",
       "      <td>1.86</td>\n",
       "      <td>2.43</td>\n",
       "      <td>1.71</td>\n",
       "      <td>2.00</td>\n",
       "      <td>4.95</td>\n",
       "      <td>2019-02-25</td>\n",
       "      <td>64</td>\n",
       "      <td>Mon</td>\n",
       "      <td>0</td>\n",
       "      <td>2112.0</td>\n",
       "      <td>4.0</td>\n",
       "      <td>0.404040</td>\n",
       "    </tr>\n",
       "    <tr>\n",
       "      <th>10</th>\n",
       "      <td>Steak &amp; Shake</td>\n",
       "      <td>Pizza Planet (Toy Story)</td>\n",
       "      <td>1.33</td>\n",
       "      <td>2.66</td>\n",
       "      <td>2.00</td>\n",
       "      <td>2.00</td>\n",
       "      <td>3.85</td>\n",
       "      <td>2019-02-09</td>\n",
       "      <td>58</td>\n",
       "      <td>Fri</td>\n",
       "      <td>0</td>\n",
       "      <td>1056.0</td>\n",
       "      <td>2.5</td>\n",
       "      <td>0.519481</td>\n",
       "    </tr>\n",
       "  </tbody>\n",
       "</table>\n",
       "</div>"
      ],
      "text/plain": [
       "                  Real Names  \\\n",
       "0                Little Ruby   \n",
       "1              burger lounge   \n",
       "2   The Great American Fries   \n",
       "3           barney's beanery   \n",
       "4               Independence   \n",
       "5               hi ho burger   \n",
       "6                 plan check   \n",
       "7                  McDonalds   \n",
       "8             Johnny Rockets   \n",
       "9                      Umami   \n",
       "10             Steak & Shake   \n",
       "\n",
       "                                           Fake Names  Flavor  Appearance  \\\n",
       "0                  Los Pollos Hermanos (Breaking Bad)    4.66        4.50   \n",
       "1   Paddy's Irish Pub (It's Always Sunny in Philad...    3.92        3.92   \n",
       "2                   The Leaky Cauldron (Harry Potter)    3.86        3.29   \n",
       "3                      Mos Eisley Cantina (Star Wars)    3.42        3.57   \n",
       "4                 Freddy's BBQ Joint (House of Cards)    2.83        3.83   \n",
       "5                             Krusty Krab (Spongebob)    3.66        3.00   \n",
       "6                       Bob's Burgers (Bob's Burgers)    3.16        2.83   \n",
       "7                   JJ's Diner (Parks and Recreation)    2.43        2.43   \n",
       "8                            Dorsia (American Psycho)    2.16        2.83   \n",
       "9                    Jack Rabbit Slims (Pulp Fiction)    1.86        2.43   \n",
       "10                           Pizza Planet (Toy Story)    1.33        2.66   \n",
       "\n",
       "    Texture  TOTAL  Price       Date  Temp    DoW  Comedy?  Distance  Yelp  \\\n",
       "0      4.16   4.44   6.61 2019-02-19    60   Tues        0     341.2   4.0   \n",
       "1      3.92   3.92   4.13 2019-03-07    61  Thurs        1    1056.0   4.0   \n",
       "2      3.86   3.67   7.17 2019-02-25    64    Mon        0    2112.0   4.5   \n",
       "3      3.29   3.43   7.50 2019-02-25    64    Mon        0     528.0   3.0   \n",
       "4      3.16   3.27   5.51 2019-02-19    60   Tues        0     540.0   4.0   \n",
       "5      2.33   3.00   4.13 2019-02-09    58    Fri        1     520.0   4.5   \n",
       "6      2.16   2.72   8.88 2019-02-09    58    Fri        1     528.0   4.0   \n",
       "7      2.43   2.43   1.86 2019-03-07    61  Thurs        1    1056.0   2.5   \n",
       "8      2.00   2.33   4.29 2019-02-19    60   Tues        0    1056.0   2.0   \n",
       "9      1.71   2.00   4.95 2019-02-25    64    Mon        0    2112.0   4.0   \n",
       "10     2.00   2.00   3.85 2019-02-09    58    Fri        0    1056.0   2.5   \n",
       "\n",
       "    Bang4Buck  \n",
       "0    0.671710  \n",
       "1    0.949153  \n",
       "2    0.511855  \n",
       "3    0.457333  \n",
       "4    0.593466  \n",
       "5    0.726392  \n",
       "6    0.306306  \n",
       "7    1.306452  \n",
       "8    0.543124  \n",
       "9    0.404040  \n",
       "10   0.519481  "
      ]
     },
     "execution_count": 29,
     "metadata": {},
     "output_type": "execute_result"
    }
   ],
   "source": [
    "starch_pd.loc[:starch_pd.shape[0]-2]"
   ]
  },
  {
   "cell_type": "code",
   "execution_count": 30,
   "metadata": {},
   "outputs": [],
   "source": [
    "yelp_agg = starch_pd.groupby('Yelp').TOTAL.mean().values\n",
    "yelp_agg2 = starch_pd.loc[:starch_pd.shape[0]-2].groupby('Yelp').TOTAL.mean().values"
   ]
  },
  {
   "cell_type": "code",
   "execution_count": 42,
   "metadata": {},
   "outputs": [],
   "source": [
    "yelp_scores = np.unique(starch_pd.Yelp.values)"
   ]
  },
  {
   "cell_type": "code",
   "execution_count": 66,
   "metadata": {},
   "outputs": [],
   "source": [
    "scores = list(yelp_scores)\n",
    "scores.insert(0,1.5)\n",
    "scores.append(5)"
   ]
  },
  {
   "cell_type": "code",
   "execution_count": 67,
   "metadata": {},
   "outputs": [
    {
     "data": {
      "text/plain": [
       "[1.5, 2.0, 2.5, 3.0, 4.0, 4.5, 5]"
      ]
     },
     "execution_count": 67,
     "metadata": {},
     "output_type": "execute_result"
    }
   ],
   "source": [
    "scores"
   ]
  },
  {
   "cell_type": "code",
   "execution_count": 72,
   "metadata": {},
   "outputs": [
    {
     "data": {
      "image/png": "[encoded data removed]",
      "text/plain": [
       "<Figure size 1332x756 with 1 Axes>"
      ]
     },
     "metadata": {},
     "output_type": "display_data"
    }
   ],
   "source": [
    "my_plt = plt.subplot(111)\n",
    "plt.gcf().set_size_inches(18.5, 10.5)\n",
    "plt.gca().yaxis.grid(True, linestyle='--')\n",
    "my_plt.set_axisbelow(True)\n",
    "my_plt.spines['right'].set_visible(False)\n",
    "my_plt.spines['top'].set_visible(False)\n",
    "my_plt.spines['left'].set_visible(False)\n",
    "plt.tick_params(axis='both', which='both', bottom=False, top=False, left=False)\n",
    "my_plt.bar(yelp_scores, yelp_agg2,width=0.45,color='lightblue',label='Without Misfit')\n",
    "my_plt.bar(yelp_scores, yelp_agg,width=0.45,color='brown')\n",
    "my_plt.plot(scores,scores,label='Yelp-FAT Line',linewidth=5)\n",
    "plt.xlabel('Yelp Score')\n",
    "plt.ylabel('Avereage FAT Score')\n",
    "plt.title('Do Yelp Scores indicate Fry Quality?')\n",
    "plt.xlim([1.6,4.9])\n",
    "plt.legend(prop={'size': 22})\n",
    "for item in ([my_plt.title, my_plt.xaxis.label, my_plt.yaxis.label] +\n",
    "             my_plt.get_xticklabels() + my_plt.get_yticklabels()):\n",
    "    item.set_fontsize(20)\n",
    "plt.savefig('yelp_score.png')\n",
    "# plt.show()\n"
   ]
  },
  {
   "cell_type": "code",
   "execution_count": 61,
   "metadata": {},
   "outputs": [
    {
     "data": {
      "text/plain": [
       "<Figure size 1332x756 with 0 Axes>"
      ]
     },
     "metadata": {},
     "output_type": "display_data"
    }
   ],
   "source": []
  },
  {
   "cell_type": "code",
   "execution_count": 192,
   "metadata": {},
   "outputs": [
    {
     "data": {
      "text/plain": [
       "array([1. , 2. , 2.5, 3. , 4. , 4.5])"
      ]
     },
     "execution_count": 192,
     "metadata": {},
     "output_type": "execute_result"
    }
   ],
   "source": [
    "np.insert(yelp_scores,0,1.5)"
   ]
  },
  {
   "cell_type": "code",
   "execution_count": 197,
   "metadata": {},
   "outputs": [],
   "source": [
    "scores = np.insert(np.insert(yelp_scores,yelp_scores.shape[0],5.0),0,1.5)"
   ]
  },
  {
   "cell_type": "code",
   "execution_count": 198,
   "metadata": {},
   "outputs": [
    {
     "data": {
      "text/plain": [
       "array([1.5, 2. , 2.5, 3. , 4. , 4.5, 5. ])"
      ]
     },
     "execution_count": 198,
     "metadata": {},
     "output_type": "execute_result"
    }
   ],
   "source": [
    "scores"
   ]
  },
  {
   "cell_type": "code",
   "execution_count": null,
   "metadata": {},
   "outputs": [],
   "source": []
  }
 ],
 "metadata": {
  "kernelspec": {
   "display_name": "Python 3",
   "language": "python",
   "name": "python3"
  },
  "language_info": {
   "codemirror_mode": {
    "name": "ipython",
    "version": 3
   },
   "file_extension": ".py",
   "mimetype": "text/x-python",
   "name": "python",
   "nbconvert_exporter": "python",
   "pygments_lexer": "ipython3",
   "version": "3.6.5"
  }
 },
 "nbformat": 4,
 "nbformat_minor": 2
}
