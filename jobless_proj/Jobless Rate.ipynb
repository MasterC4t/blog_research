{
 "cells": [
  {
   "cell_type": "markdown",
   "metadata": {},
   "source": [
    "# Jobless Rate vs. Unemployment Rate\n",
    "---\n",
    "##### When I hear the term \"unemployment rate\" I _assume_ that it refers to:\n",
    "    The percentage of the population without a job\n",
    "##### But it actually is defined as:\n",
    "     The percentage of total workforce who are unemployed and are looking for a paid job. [1] In order to be considered part of the workforce, you need to have worked 0 hours last week (even 1 hour constitutes working) and have looked for a job in the past 4 weeks [2]\n",
    "     \n",
    "##### The main differences being \n",
    "     (1) instead of the entire population, it is just the working class and\n",
    "     (2) instead of everyone it is just people actively looking for a job by this narrow definition\n",
    "\n",
    "##### While generally a good metric, this leaves out a great deal of people. And more interestingly, I'm guessing that the percentage of the population does not get calculated into unemployment rate has been increasing. I wanted to compare my jobless rate to the unemployement rate, and see if it has had similar trends over the past few years\n",
    "\n",
    "##### The goal isn't to see if the Jobless Rate is _higher_ than the unemployment rate-- it's obviously going to be higher since I'm including more people-- I am just seeing if a reduction in unemployment is due to the fact that the jobless, but uncounted, population is growing and deflating the unemployment rate.\n",
    "\n",
    "##### A silly example of this would be if everyone in the US were actually under the age of 17 and therefore too young to be considered part of the workforce, effectively reducing the the unemployment rate to 0. \n",
    "\n",
    "##### A less fun and more realistic potential outcome is that there is a growing retirement population as America ages, and the high number of retirements correlates with a lowering unemployment. Or that the incareration rate is growing while unemployment is shrinking at a similar rate. This would mean that we are putting so many in jail that we are affecting the unemployment rate!"
   ]
  },
  {
   "cell_type": "markdown",
   "metadata": {},
   "source": [
    "##### Works Cited\n",
    "1. http://www.businessdictionary.com/definition/unemployment-rate.html\n",
    "- https://qz.com/877432/the-us-unemployment-rate-measure-is-deceptive-and-doesnt-need-to-be/\n",
    "- https://data.bls.gov/timeseries/LNS14000000\n",
    "- http://www.multpl.com/united-states-population/table\n",
    "- https://www.statista.com/statistics/194295/number-of-us-retired-workers-who-receive-social-security/\n",
    "- https://www.childstats.gov/americaschildren/tables/pop1.asp\n",
    "- https://www.bjs.gov/index.cfm?ty=kfdetail&iid=487\n",
    "- https://www.cna.org/research/pop-rep\n",
    "- https://www.theatlas.com/charts/r15A7aqHg\n",
    "- https://en.wikipedia.org/wiki/Goodhart%27s_law\n",
    "- http://freakonomics.com/podcast/the-cobra-effect-a-new-freakonomics-radio-podcast/\n",
    "- https://militaryhistorynow.com/2015/01/05/brute-force-historys-largest-armies/\n",
    "- https://en.wikipedia.org/wiki/List_of_countries_by_number_of_military_and_paramilitary_personnel\n",
    "- https://www4.stat.ncsu.edu/~jaosborn/research/RISK.pdf\n",
    "- https://project.wnyc.org/commute-times-us/embed.html\n",
    "- https://www.cnbc.com/2018/01/08/average-us-gas-price-jumps-3-cents-to-2-point-54-for-regular.html\n",
    "-https://www.reuters.com/article/us-autos-emissions/u-s-vehicle-fuel-economy-rises-to-record-24-7-mpg-epa-idUSKBN1F02BX\n",
    "- http://ridetowork.org/transportation-fact-sheet\n",
    "- https://www.domo.com/learn/data-never-sleeps-5?aid=ogsm072517_1&sf100871281=1\n",
    "- https://ig.ft.com/how-much-is-your-personal-data-worth/#axzz2z2agBB6R\n",
    "- https://www.marketplace.org/2017/05/15/world/how-much-does-it-cost-send-someone-prison\n",
    "- http://www.justiceconcepts.com/construction.htm\n",
    "- https://www.prisonpolicy.org/reports/pie2016.html\n",
    "- https://www.kff.org/other/state-indicator/distribution-by-age/?currentTimeframe=0&sortModel=%7B%22colId%22:%22Location%22,%22sort%22:%22asc%22%7D\n",
    "- https://www.forbes.com/sites/dianahembree/2018/05/22/ceo-pay-skyrockets-to-361-times-that-of-the-average-worker/#12ee901c776d\n",
    "- https://www.bls.gov/web/laus/laumstrk.htm\n",
    "- https://data.worldbank.org/indicator/NY.GDP.MKTP.CD?year_high_desc=true\n",
    "- https://en.wikipedia.org/wiki/Horses_in_the_United_States\n",
    "- https://www.ers.usda.gov/topics/animal-products/sheep-lamb-mutton/sector-at-a-glance/\n",
    "- https://www.peta.org/issues/animals-used-for-food/factory-farming/chickens/\n",
    "- https://www.nytimes.com/2016/11/01/science/facts-about-donkeys.html\n",
    "- https://www.mass.gov/service-details/filing-for-unemployment-benefits-as-a-non-us-citizen\n",
    "- https://education.findlaw.com/education-options/compulsory-education-laws-background.html\n",
    "- https://www.quora.com/How-many-college-students-are-there-in-the-United-States\n",
    "- https://www.nsta.org/about/clpa/faq.aspx\n",
    "- https://www.topeducationdegrees.org/faq/how-much-money-does-an-average-teacher-make-a-year/\n",
    "- https://www.usgovernmentspending.com/federal_budget_estimate_vs_actual_2018"
   ]
  },
  {
   "cell_type": "code",
   "execution_count": 3,
   "metadata": {},
   "outputs": [],
   "source": [
    "import pandas as pd\n",
    "import os\n",
    "import matplotlib.pyplot as plt\n",
    "unemp_pd = pd.read_excel(os.getcwd()+'/jobless_data/unemployment_rate.csv', header = 11)"
   ]
  },
  {
   "cell_type": "code",
   "execution_count": 4,
   "metadata": {},
   "outputs": [
    {
     "data": {
      "text/html": [
       "<div>\n",
       "<style scoped>\n",
       "    .dataframe tbody tr th:only-of-type {\n",
       "        vertical-align: middle;\n",
       "    }\n",
       "\n",
       "    .dataframe tbody tr th {\n",
       "        vertical-align: top;\n",
       "    }\n",
       "\n",
       "    .dataframe thead th {\n",
       "        text-align: right;\n",
       "    }\n",
       "</style>\n",
       "<table border=\"1\" class=\"dataframe\">\n",
       "  <thead>\n",
       "    <tr style=\"text-align: right;\">\n",
       "      <th></th>\n",
       "      <th>Year</th>\n",
       "      <th>Jan</th>\n",
       "      <th>Feb</th>\n",
       "      <th>Mar</th>\n",
       "      <th>Apr</th>\n",
       "      <th>May</th>\n",
       "      <th>Jun</th>\n",
       "      <th>Jul</th>\n",
       "      <th>Aug</th>\n",
       "      <th>Sep</th>\n",
       "      <th>Oct</th>\n",
       "      <th>Nov</th>\n",
       "      <th>Dec</th>\n",
       "    </tr>\n",
       "  </thead>\n",
       "  <tbody>\n",
       "    <tr>\n",
       "      <th>0</th>\n",
       "      <td>2009</td>\n",
       "      <td>7.8</td>\n",
       "      <td>8.3</td>\n",
       "      <td>8.7</td>\n",
       "      <td>9.0</td>\n",
       "      <td>9.4</td>\n",
       "      <td>9.5</td>\n",
       "      <td>9.5</td>\n",
       "      <td>9.6</td>\n",
       "      <td>9.8</td>\n",
       "      <td>10.0</td>\n",
       "      <td>9.9</td>\n",
       "      <td>9.9</td>\n",
       "    </tr>\n",
       "    <tr>\n",
       "      <th>1</th>\n",
       "      <td>2010</td>\n",
       "      <td>9.8</td>\n",
       "      <td>9.8</td>\n",
       "      <td>9.9</td>\n",
       "      <td>9.9</td>\n",
       "      <td>9.6</td>\n",
       "      <td>9.4</td>\n",
       "      <td>9.4</td>\n",
       "      <td>9.5</td>\n",
       "      <td>9.5</td>\n",
       "      <td>9.4</td>\n",
       "      <td>9.8</td>\n",
       "      <td>9.3</td>\n",
       "    </tr>\n",
       "    <tr>\n",
       "      <th>2</th>\n",
       "      <td>2011</td>\n",
       "      <td>9.1</td>\n",
       "      <td>9.0</td>\n",
       "      <td>9.0</td>\n",
       "      <td>9.1</td>\n",
       "      <td>9.0</td>\n",
       "      <td>9.1</td>\n",
       "      <td>9.0</td>\n",
       "      <td>9.0</td>\n",
       "      <td>9.0</td>\n",
       "      <td>8.8</td>\n",
       "      <td>8.6</td>\n",
       "      <td>8.5</td>\n",
       "    </tr>\n",
       "    <tr>\n",
       "      <th>3</th>\n",
       "      <td>2012</td>\n",
       "      <td>8.3</td>\n",
       "      <td>8.3</td>\n",
       "      <td>8.2</td>\n",
       "      <td>8.2</td>\n",
       "      <td>8.2</td>\n",
       "      <td>8.2</td>\n",
       "      <td>8.2</td>\n",
       "      <td>8.1</td>\n",
       "      <td>7.8</td>\n",
       "      <td>7.8</td>\n",
       "      <td>7.7</td>\n",
       "      <td>7.9</td>\n",
       "    </tr>\n",
       "    <tr>\n",
       "      <th>4</th>\n",
       "      <td>2013</td>\n",
       "      <td>8.0</td>\n",
       "      <td>7.7</td>\n",
       "      <td>7.5</td>\n",
       "      <td>7.6</td>\n",
       "      <td>7.5</td>\n",
       "      <td>7.5</td>\n",
       "      <td>7.3</td>\n",
       "      <td>7.2</td>\n",
       "      <td>7.2</td>\n",
       "      <td>7.2</td>\n",
       "      <td>6.9</td>\n",
       "      <td>6.7</td>\n",
       "    </tr>\n",
       "    <tr>\n",
       "      <th>5</th>\n",
       "      <td>2014</td>\n",
       "      <td>6.6</td>\n",
       "      <td>6.7</td>\n",
       "      <td>6.7</td>\n",
       "      <td>6.2</td>\n",
       "      <td>6.3</td>\n",
       "      <td>6.1</td>\n",
       "      <td>6.2</td>\n",
       "      <td>6.1</td>\n",
       "      <td>5.9</td>\n",
       "      <td>5.7</td>\n",
       "      <td>5.8</td>\n",
       "      <td>5.6</td>\n",
       "    </tr>\n",
       "    <tr>\n",
       "      <th>6</th>\n",
       "      <td>2015</td>\n",
       "      <td>5.7</td>\n",
       "      <td>5.5</td>\n",
       "      <td>5.4</td>\n",
       "      <td>5.4</td>\n",
       "      <td>5.6</td>\n",
       "      <td>5.3</td>\n",
       "      <td>5.2</td>\n",
       "      <td>5.1</td>\n",
       "      <td>5.0</td>\n",
       "      <td>5.0</td>\n",
       "      <td>5.1</td>\n",
       "      <td>5.0</td>\n",
       "    </tr>\n",
       "    <tr>\n",
       "      <th>7</th>\n",
       "      <td>2016</td>\n",
       "      <td>4.9</td>\n",
       "      <td>4.9</td>\n",
       "      <td>5.0</td>\n",
       "      <td>5.0</td>\n",
       "      <td>4.8</td>\n",
       "      <td>4.9</td>\n",
       "      <td>4.8</td>\n",
       "      <td>4.9</td>\n",
       "      <td>5.0</td>\n",
       "      <td>4.9</td>\n",
       "      <td>4.7</td>\n",
       "      <td>4.7</td>\n",
       "    </tr>\n",
       "    <tr>\n",
       "      <th>8</th>\n",
       "      <td>2017</td>\n",
       "      <td>4.7</td>\n",
       "      <td>4.7</td>\n",
       "      <td>4.4</td>\n",
       "      <td>4.4</td>\n",
       "      <td>4.4</td>\n",
       "      <td>4.3</td>\n",
       "      <td>4.3</td>\n",
       "      <td>4.4</td>\n",
       "      <td>4.2</td>\n",
       "      <td>4.1</td>\n",
       "      <td>4.2</td>\n",
       "      <td>4.1</td>\n",
       "    </tr>\n",
       "    <tr>\n",
       "      <th>9</th>\n",
       "      <td>2018</td>\n",
       "      <td>4.1</td>\n",
       "      <td>4.1</td>\n",
       "      <td>4.0</td>\n",
       "      <td>3.9</td>\n",
       "      <td>3.8</td>\n",
       "      <td>4.0</td>\n",
       "      <td>3.9</td>\n",
       "      <td>3.8</td>\n",
       "      <td>3.7</td>\n",
       "      <td>3.8</td>\n",
       "      <td>3.7</td>\n",
       "      <td>3.9</td>\n",
       "    </tr>\n",
       "    <tr>\n",
       "      <th>10</th>\n",
       "      <td>2019</td>\n",
       "      <td>4.0</td>\n",
       "      <td>NaN</td>\n",
       "      <td>NaN</td>\n",
       "      <td>NaN</td>\n",
       "      <td>NaN</td>\n",
       "      <td>NaN</td>\n",
       "      <td>NaN</td>\n",
       "      <td>NaN</td>\n",
       "      <td>NaN</td>\n",
       "      <td>NaN</td>\n",
       "      <td>NaN</td>\n",
       "      <td>NaN</td>\n",
       "    </tr>\n",
       "  </tbody>\n",
       "</table>\n",
       "</div>"
      ],
      "text/plain": [
       "    Year  Jan  Feb  Mar  Apr  May  Jun  Jul  Aug  Sep   Oct  Nov  Dec\n",
       "0   2009  7.8  8.3  8.7  9.0  9.4  9.5  9.5  9.6  9.8  10.0  9.9  9.9\n",
       "1   2010  9.8  9.8  9.9  9.9  9.6  9.4  9.4  9.5  9.5   9.4  9.8  9.3\n",
       "2   2011  9.1  9.0  9.0  9.1  9.0  9.1  9.0  9.0  9.0   8.8  8.6  8.5\n",
       "3   2012  8.3  8.3  8.2  8.2  8.2  8.2  8.2  8.1  7.8   7.8  7.7  7.9\n",
       "4   2013  8.0  7.7  7.5  7.6  7.5  7.5  7.3  7.2  7.2   7.2  6.9  6.7\n",
       "5   2014  6.6  6.7  6.7  6.2  6.3  6.1  6.2  6.1  5.9   5.7  5.8  5.6\n",
       "6   2015  5.7  5.5  5.4  5.4  5.6  5.3  5.2  5.1  5.0   5.0  5.1  5.0\n",
       "7   2016  4.9  4.9  5.0  5.0  4.8  4.9  4.8  4.9  5.0   4.9  4.7  4.7\n",
       "8   2017  4.7  4.7  4.4  4.4  4.4  4.3  4.3  4.4  4.2   4.1  4.2  4.1\n",
       "9   2018  4.1  4.1  4.0  3.9  3.8  4.0  3.9  3.8  3.7   3.8  3.7  3.9\n",
       "10  2019  4.0  NaN  NaN  NaN  NaN  NaN  NaN  NaN  NaN   NaN  NaN  NaN"
      ]
     },
     "execution_count": 4,
     "metadata": {},
     "output_type": "execute_result"
    }
   ],
   "source": [
    "unemp_pd"
   ]
  },
  {
   "cell_type": "code",
   "execution_count": 5,
   "metadata": {},
   "outputs": [],
   "source": [
    "y_vals = unemp_pd.iloc[:,1:].values.flatten()"
   ]
  },
  {
   "cell_type": "code",
   "execution_count": 6,
   "metadata": {},
   "outputs": [],
   "source": [
    "months = list(unemp_pd.columns[1:])\n",
    "years = list(unemp_pd.iloc[:,0])\n",
    "\n",
    "x_dates = []\n",
    "x_ticks = []\n",
    "for year in years:\n",
    "    for month in months:\n",
    "        if month =='Jan':\n",
    "            x_ticks.append(month+'-'+str(year))\n",
    "        x_dates.append(month+'-'+str(year))"
   ]
  },
  {
   "cell_type": "code",
   "execution_count": 7,
   "metadata": {},
   "outputs": [
    {
     "data": {
      "image/png": "[encoded data removed]",
      "text/plain": [
       "<Figure size 432x288 with 1 Axes>"
      ]
     },
     "metadata": {},
     "output_type": "display_data"
    }
   ],
   "source": [
    "plt.plot_date(x=x_dates, y=y_vals, linestyle='-', marker=None)\n",
    "plt.xticks(x_ticks, rotation=45)\n",
    "plt.title('Unemployment Rate over Past Decade')\n",
    "plt.ylabel('Unemployment (%)')\n",
    "plt.show()"
   ]
  },
  {
   "cell_type": "code",
   "execution_count": 8,
   "metadata": {},
   "outputs": [
    {
     "data": {
      "text/plain": [
       "'Dec-2019'"
      ]
     },
     "execution_count": 8,
     "metadata": {},
     "output_type": "execute_result"
    }
   ],
   "source": [
    "x_dates[-1]"
   ]
  },
  {
   "cell_type": "code",
   "execution_count": 9,
   "metadata": {},
   "outputs": [],
   "source": [
    "pop_ugly_str = '''\n",
    "Dec 1, 2018\t329.10 million\n",
    "Nov 1, 2018\t328.91 million\n",
    "Oct 1, 2018\t328.71 million\n",
    "Sep 1, 2018\t328.48 million\n",
    "Aug 1, 2018\t328.26 million\n",
    "Jul 1, 2018\t328.03 million\n",
    "Jun 1, 2018\t327.83 million\n",
    "May 1, 2018\t327.63 million\n",
    "Apr 1, 2018\t327.45 million\n",
    "Mar 1, 2018\t327.28 million\n",
    "Feb 1, 2018\t327.12 million\n",
    "Jan 1, 2018\t326.97 million\n",
    "Dec 1, 2017\t326.78 million\n",
    "Nov 1, 2017\t326.60 million\n",
    "Oct 1, 2017\t326.39 million\n",
    "Sep 1, 2017\t326.17 million\n",
    "Aug 1, 2017\t325.94 million\n",
    "Jul 1, 2017\t325.72 million\n",
    "Jun 1, 2017\t325.51 million\n",
    "May 1, 2017\t325.32 million\n",
    "Apr 1, 2017\t325.13 million\n",
    "Mar 1, 2017\t324.97 million\n",
    "Feb 1, 2017\t324.81 million\n",
    "Jan 1, 2017\t324.66 million\n",
    "Dec 1, 2016\t324.46 million\n",
    "Nov 1, 2016\t324.28 million\n",
    "Oct 1, 2016\t324.08 million\n",
    "Sep 1, 2016\t323.84 million\n",
    "Aug 1, 2016\t323.62 million\n",
    "Jul 1, 2016\t323.41 million\n",
    "Jun 1, 2016\t323.19 million\n",
    "May 1, 2016\t323.00 million\n",
    "Apr 1, 2016\t322.81 million\n",
    "Mar 1, 2016\t322.64 million\n",
    "Feb 1, 2016\t322.47 million\n",
    "Jan 1, 2016\t322.31 million\n",
    "Dec 1, 2015\t322.15 million\n",
    "Nov 1, 2015\t321.94 million\n",
    "Oct 1, 2015\t321.74 million\n",
    "Sep 1, 2015\t321.50 million\n",
    "Aug 1, 2015\t321.27 million\n",
    "Jul 1, 2015\t321.04 million\n",
    "Jun 1, 2015\t320.83 million\n",
    "May 1, 2015\t320.64 million\n",
    "Apr 1, 2015\t320.45 million\n",
    "Mar 1, 2015\t320.27 million\n",
    "Feb 1, 2015\t320.10 million\n",
    "Jan 1, 2015\t319.96 million\n",
    "Dec 1, 2014\t319.77 million\n",
    "Nov 1, 2014\t319.57 million\n",
    "Oct 1, 2014\t319.35 million\n",
    "Sep 1, 2014\t319.11 million\n",
    "Aug 1, 2014\t318.87 million\n",
    "Jul 1, 2014\t318.62 million\n",
    "Jun 1, 2014\t318.42 million\n",
    "May 1, 2014\t318.22 million\n",
    "Apr 1, 2014\t318.03 million\n",
    "Mar 1, 2014\t317.86 million\n",
    "Feb 1, 2014\t317.70 million\n",
    "Jan 1, 2014\t317.52 million\n",
    "Dec 1, 2013\t317.33 million\n",
    "Nov 1, 2013\t317.14 million\n",
    "Oct 1, 2013\t316.92 million\n",
    "Sep 1, 2013\t316.69 million\n",
    "Aug 1, 2013\t316.45 million\n",
    "Jul 1, 2013\t316.23 million\n",
    "Jun 1, 2013\t316.04 million\n",
    "May 1, 2013\t315.84 million\n",
    "Apr 1, 2013\t315.69 million\n",
    "Mar 1, 2013\t315.52 million\n",
    "Feb 1, 2013\t315.37 million\n",
    "Jan 1, 2013\t315.24 million\n",
    "Dec 1, 2012\t315.07 million\n",
    "Nov 1, 2012\t314.88 million\n",
    "Oct 1, 2012\t314.68 million\n",
    "Sep 1, 2012\t314.46 million\n",
    "Aug 1, 2012\t314.22 million\n",
    "Jul 1, 2012\t313.99 million\n",
    "Jun 1, 2012\t313.79 million\n",
    "May 1, 2012\t313.60 million\n",
    "Apr 1, 2012\t313.43 million\n",
    "Mar 1, 2012\t313.25 million\n",
    "Feb 1, 2012\t313.06 million\n",
    "Jan 1, 2012\t312.91 million\n",
    "Dec 1, 2011\t312.71 million\n",
    "Nov 1, 2011\t312.51 million\n",
    "Oct 1, 2011\t312.31 million\n",
    "Sep 1, 2011\t312.10 million\n",
    "Aug 1, 2011\t311.86 million\n",
    "Jul 1, 2011\t311.64 million\n",
    "Jun 1, 2011\t311.43 million\n",
    "May 1, 2011\t311.26 million\n",
    "Apr 1, 2011\t311.08 million\n",
    "Mar 1, 2011\t310.90 million\n",
    "Feb 1, 2011\t310.75 million\n",
    "Jan 1, 2011\t310.59 million\n",
    "Dec 1, 2010\t310.39 million\n",
    "Nov 1, 2010\t310.21 million\n",
    "Oct 1, 2010\t310.02 million\n",
    "Sep 1, 2010\t309.79 million\n",
    "Aug 1, 2010\t309.56 million\n",
    "Jul 1, 2010\t309.34 million\n",
    "Jun 1, 2010\t309.13 million\n",
    "May 1, 2010\t308.95 million\n",
    "Apr 1, 2010\t308.76 million\n",
    "Mar 1, 2010\t308.57 million\n",
    "Feb 1, 2010\t308.38 million\n",
    "Jan 1, 2010\t308.17 million\n",
    "Dec 1, 2009\t307.95 million\n",
    "Nov 1, 2009\t307.76 million\n",
    "Oct 1, 2009\t307.52 million\n",
    "Sep 1, 2009\t307.27 million\n",
    "Aug 1, 2009\t307.01 million\n",
    "Jul 1, 2009\t306.77 million\n",
    "Jun 1, 2009\t306.54 million\n",
    "May 1, 2009\t306.32 million\n",
    "Apr 1, 2009\t306.11 million\n",
    "Mar 1, 2009\t305.92 million\n",
    "Feb 1, 2009\t305.71 million\n",
    "Jan 1, 2009\t305.52 million\n",
    "'''"
   ]
  },
  {
   "cell_type": "code",
   "execution_count": 10,
   "metadata": {},
   "outputs": [],
   "source": [
    "import re\n",
    "pop_tmp = re.findall(r'([A-Z][a-z]+)\\s1,\\s([0-9]*)\\s([0-9]+\\.[0-9]+)\\smillion',pop_ugly_str)"
   ]
  },
  {
   "cell_type": "code",
   "execution_count": 11,
   "metadata": {},
   "outputs": [],
   "source": [
    "mil_pop_val = [float(pop_tmp[i][2]) for i in range(len(pop_tmp))]\n",
    "pop_date = [pop_tmp[i][0]+'-'+pop_tmp[i][1] for i in range(len(pop_tmp))]\n",
    "x_ticks = [date for date in pop_date if 'Jan' in date]\n",
    "mil_pop_val.reverse()\n",
    "pop_date.reverse()\n",
    "x_ticks.reverse()"
   ]
  },
  {
   "cell_type": "code",
   "execution_count": 12,
   "metadata": {},
   "outputs": [
    {
     "data": {
      "image/png": "[encoded data removed]",
      "text/plain": [
       "<Figure size 432x288 with 1 Axes>"
      ]
     },
     "metadata": {},
     "output_type": "display_data"
    }
   ],
   "source": [
    "plt.plot_date(x=pop_date, y=mil_pop_val, linestyle='-', marker=None)\n",
    "plt.xticks(x_ticks,rotation=45)\n",
    "plt.title('US Total Population')\n",
    "plt.ylabel('Population (Millions)')\n",
    "plt.show()"
   ]
  },
  {
   "cell_type": "code",
   "execution_count": 13,
   "metadata": {},
   "outputs": [],
   "source": [
    "unemp_pop = mil_pop_val * y_vals[:120] /100 # We cut down unemploy #s\n",
    "                                            # Because I don't have 2019\n",
    "                                            # Population census data"
   ]
  },
  {
   "cell_type": "code",
   "execution_count": 14,
   "metadata": {},
   "outputs": [
    {
     "data": {
      "image/png": "[encoded data removed]",
      "text/plain": [
       "<Figure size 432x288 with 1 Axes>"
      ]
     },
     "metadata": {},
     "output_type": "display_data"
    }
   ],
   "source": [
    "plt.plot_date(x=x_dates[:120], y=unemp_pop, linestyle='-', marker=None)\n",
    "plt.xticks(x_ticks, rotation=45)\n",
    "plt.title('Unemployment Rate over Past Decade')\n",
    "plt.ylabel('Unemployment (Millions)')\n",
    "plt.show()"
   ]
  },
  {
   "cell_type": "code",
   "execution_count": 15,
   "metadata": {},
   "outputs": [],
   "source": [
    "ss_pop_08_to_18 = [32.27,\n",
    "                  33.51,\n",
    "                  34.59,\n",
    "                  35.6,\n",
    "                  36.72,\n",
    "                  37.89,\n",
    "                  39.01,\n",
    "                  40.09,\n",
    "                  41.23,\n",
    "                  42.45,\n",
    "                  43.72]\n",
    "ss_pop = ss_pop_08_to_18[1:]"
   ]
  },
  {
   "cell_type": "code",
   "execution_count": 16,
   "metadata": {},
   "outputs": [
    {
     "data": {
      "image/png": "[encoded data removed]",
      "text/plain": [
       "<Figure size 432x288 with 1 Axes>"
      ]
     },
     "metadata": {},
     "output_type": "display_data"
    }
   ],
   "source": [
    "plt.plot_date(x=x_ticks, y=ss_pop, linestyle='-', marker=None)\n",
    "plt.title('Retired Americans')\n",
    "plt.ylabel('Population (Millions)')\n",
    "plt.xticks(rotation=45)\n",
    "plt.show()"
   ]
  },
  {
   "cell_type": "code",
   "execution_count": 17,
   "metadata": {},
   "outputs": [],
   "source": [
    "child_pop = [74.1,74.1,73.9,73.7,73.6,73.6,73.6,73.7,73.7,73.8]"
   ]
  },
  {
   "cell_type": "code",
   "execution_count": 18,
   "metadata": {},
   "outputs": [
    {
     "data": {
      "image/png": "[encoded data removed]",
      "text/plain": [
       "<Figure size 432x288 with 1 Axes>"
      ]
     },
     "metadata": {},
     "output_type": "display_data"
    }
   ],
   "source": [
    "plt.plot_date(x=x_ticks, y=child_pop, linestyle='-', marker=None)\n",
    "plt.title('Children in America')\n",
    "plt.ylabel('Population (Millions)')\n",
    "plt.xticks(rotation=45)\n",
    "plt.show()"
   ]
  },
  {
   "cell_type": "code",
   "execution_count": 19,
   "metadata": {},
   "outputs": [],
   "source": [
    "jail_pop_pd = pd.read_csv(os.getcwd()+'/jobless_data/'+ 'Total_correctional_population_counts_by_status.csv', header=10)"
   ]
  },
  {
   "cell_type": "code",
   "execution_count": 20,
   "metadata": {},
   "outputs": [
    {
     "name": "stderr",
     "output_type": "stream",
     "text": [
      "/anaconda3/lib/python3.6/site-packages/ipykernel_launcher.py:1: UserWarning: Boolean Series key will be reindexed to match DataFrame index.\n",
      "  \"\"\"Entry point for launching an IPython kernel.\n"
     ]
    }
   ],
   "source": [
    "jail_pop_list = jail_pop_pd[jail_pop_pd.Year > '2007'][jail_pop_pd.Year <= '2016']['Total/c']"
   ]
  },
  {
   "cell_type": "code",
   "execution_count": 21,
   "metadata": {},
   "outputs": [],
   "source": [
    "import locale\n",
    "million = 1000000\n",
    "locale.setlocale( locale.LC_ALL, 'en_US.UTF-8' ) \n",
    "jail_pop_data = [locale.atof(i)/million for i in jail_pop_list]"
   ]
  },
  {
   "cell_type": "code",
   "execution_count": 22,
   "metadata": {},
   "outputs": [
    {
     "data": {
      "text/plain": [
       "[2.3103, 2.2977, 2.2791, 2.2525, 2.2313, 2.2225, 2.2251, 2.1728, 2.1624]"
      ]
     },
     "execution_count": 22,
     "metadata": {},
     "output_type": "execute_result"
    }
   ],
   "source": [
    "jail_pop_data # This only goes from '08 to '16"
   ]
  },
  {
   "cell_type": "code",
   "execution_count": 23,
   "metadata": {},
   "outputs": [],
   "source": [
    "from scipy.optimize import curve_fit\n",
    "# Project out '17 and '18 incarceration rates\n",
    "\n",
    "def f(x, A, B):\n",
    "    return A*x + B\n",
    "y = jail_pop_data\n",
    "x = [i for i in range(8,8+len(jail_pop_data))]\n",
    "A,B = curve_fit(f, x, y)[0]"
   ]
  },
  {
   "cell_type": "code",
   "execution_count": 24,
   "metadata": {},
   "outputs": [
    {
     "data": {
      "text/plain": [
       "[2.3103, 2.2977, 2.2791, 2.2525, 2.2313, 2.2225, 2.2251, 2.1728, 2.1624]"
      ]
     },
     "execution_count": 24,
     "metadata": {},
     "output_type": "execute_result"
    }
   ],
   "source": [
    "y"
   ]
  },
  {
   "cell_type": "code",
   "execution_count": 25,
   "metadata": {},
   "outputs": [],
   "source": [
    "jail_17_data = A*17 + B\n",
    "jail_18_data = A*18 + B"
   ]
  },
  {
   "cell_type": "code",
   "execution_count": 26,
   "metadata": {},
   "outputs": [],
   "source": [
    "jail_pop_data.append(jail_17_data)\n",
    "jail_pop_data.append(jail_18_data)"
   ]
  },
  {
   "cell_type": "code",
   "execution_count": 27,
   "metadata": {},
   "outputs": [
    {
     "data": {
      "image/png": "[encoded data removed]",
      "text/plain": [
       "<Figure size 432x288 with 1 Axes>"
      ]
     },
     "metadata": {},
     "output_type": "display_data"
    }
   ],
   "source": [
    "plt.plot_date(x=x_ticks, y=jail_pop_data[1:], linestyle='-', marker=None)\n",
    "plt.title('Incarcerated in America')\n",
    "plt.ylabel('Population (Millions)')\n",
    "plt.xticks(rotation=45)\n",
    "plt.show()"
   ]
  },
  {
   "cell_type": "code",
   "execution_count": 28,
   "metadata": {},
   "outputs": [],
   "source": [
    "active_enlist_09_to_17 = [\n",
    "    '1,176,145',\n",
    "    '1,417,370',\n",
    "    '1,411,425',\n",
    "    '1,388,030',\n",
    "    '1,370,330',\n",
    "    '1,326,273',\n",
    "    '1,301,443',\n",
    "    '1,288,596',\n",
    "    '1,294,520'\n",
    "]\n",
    "enlist_data = [locale.atof(i)/million for i in active_enlist_09_to_17]"
   ]
  },
  {
   "cell_type": "code",
   "execution_count": 29,
   "metadata": {},
   "outputs": [],
   "source": [
    "y = enlist_data\n",
    "x = [i for i in range(9,9+len(enlist_data))]\n",
    "A,B = curve_fit(f, x, y)[0]"
   ]
  },
  {
   "cell_type": "code",
   "execution_count": 30,
   "metadata": {},
   "outputs": [],
   "source": [
    "enlist_18_data = A*18 + B\n",
    "enlist_data.append(enlist_18_data)"
   ]
  },
  {
   "cell_type": "code",
   "execution_count": 31,
   "metadata": {},
   "outputs": [
    {
     "data": {
      "image/png": "[encoded data removed]",
      "text/plain": [
       "<Figure size 432x288 with 1 Axes>"
      ]
     },
     "metadata": {},
     "output_type": "display_data"
    }
   ],
   "source": [
    "plt.plot_date(x=x_ticks, y=enlist_data, linestyle='-', marker=None)\n",
    "plt.title('Active Military in America')\n",
    "plt.ylabel('Population (Millions)')\n",
    "plt.xticks(rotation=45)\n",
    "plt.show()"
   ]
  },
  {
   "cell_type": "code",
   "execution_count": 58,
   "metadata": {},
   "outputs": [],
   "source": [
    "wanters_pd = pd.read_csv(os.getcwd()+'/jobless_data/People not counted in the US labor force but want a job.csv')"
   ]
  },
  {
   "cell_type": "code",
   "execution_count": 66,
   "metadata": {},
   "outputs": [
    {
     "data": {
      "text/html": [
       "<div>\n",
       "<style scoped>\n",
       "    .dataframe tbody tr th:only-of-type {\n",
       "        vertical-align: middle;\n",
       "    }\n",
       "\n",
       "    .dataframe tbody tr th {\n",
       "        vertical-align: top;\n",
       "    }\n",
       "\n",
       "    .dataframe thead th {\n",
       "        text-align: right;\n",
       "    }\n",
       "</style>\n",
       "<table border=\"1\" class=\"dataframe\">\n",
       "  <thead>\n",
       "    <tr style=\"text-align: right;\">\n",
       "      <th></th>\n",
       "      <th>Date</th>\n",
       "      <th>Millions of people</th>\n",
       "    </tr>\n",
       "  </thead>\n",
       "  <tbody>\n",
       "    <tr>\n",
       "      <th>0</th>\n",
       "      <td>1/1/97</td>\n",
       "      <td>5.05</td>\n",
       "    </tr>\n",
       "    <tr>\n",
       "      <th>1</th>\n",
       "      <td>2/1/97</td>\n",
       "      <td>5.15</td>\n",
       "    </tr>\n",
       "    <tr>\n",
       "      <th>2</th>\n",
       "      <td>3/1/97</td>\n",
       "      <td>5.07</td>\n",
       "    </tr>\n",
       "    <tr>\n",
       "      <th>3</th>\n",
       "      <td>4/1/97</td>\n",
       "      <td>4.89</td>\n",
       "    </tr>\n",
       "    <tr>\n",
       "      <th>4</th>\n",
       "      <td>5/1/97</td>\n",
       "      <td>5.20</td>\n",
       "    </tr>\n",
       "  </tbody>\n",
       "</table>\n",
       "</div>"
      ],
      "text/plain": [
       "     Date  Millions of people\n",
       "0  1/1/97                5.05\n",
       "1  2/1/97                5.15\n",
       "2  3/1/97                5.07\n",
       "3  4/1/97                4.89\n",
       "4  5/1/97                5.20"
      ]
     },
     "execution_count": 66,
     "metadata": {},
     "output_type": "execute_result"
    }
   ],
   "source": [
    "wanters_pd.head()"
   ]
  },
  {
   "cell_type": "code",
   "execution_count": 81,
   "metadata": {},
   "outputs": [],
   "source": [
    "good_yr = []\n",
    "for i in wanters_pd.Date:\n",
    "    if i[:4] == '1/1/':\n",
    "        yr = int(i[4:])\n",
    "        if(yr>8) and (yr<=16):\n",
    "            good_yr.append(i)"
   ]
  },
  {
   "cell_type": "code",
   "execution_count": 82,
   "metadata": {},
   "outputs": [
    {
     "data": {
      "text/plain": [
       "['1/1/09',\n",
       " '1/1/10',\n",
       " '1/1/11',\n",
       " '1/1/12',\n",
       " '1/1/13',\n",
       " '1/1/14',\n",
       " '1/1/15',\n",
       " '1/1/16']"
      ]
     },
     "execution_count": 82,
     "metadata": {},
     "output_type": "execute_result"
    }
   ],
   "source": [
    "good_yr"
   ]
  },
  {
   "cell_type": "code",
   "execution_count": 83,
   "metadata": {},
   "outputs": [],
   "source": [
    "wanters_good_yr_pd = wanters_pd[wanters_pd.Date.isin(good_yr)]"
   ]
  },
  {
   "cell_type": "code",
   "execution_count": 84,
   "metadata": {},
   "outputs": [],
   "source": [
    "wanter_data = list(wanters_good_yr_pd['Millions of people'])\n",
    "y = wanter_data\n",
    "x = [i for i in range(9,9+len(wanter_data))]\n",
    "A,B = curve_fit(f, x, y)[0]"
   ]
  },
  {
   "cell_type": "code",
   "execution_count": 85,
   "metadata": {},
   "outputs": [],
   "source": [
    "wanter_17_data = A*17 + B\n",
    "wanter_18_data = A*18 + B\n",
    "wanter_data.append(wanter_17_data)\n",
    "wanter_data.append(wanter_18_data)"
   ]
  },
  {
   "cell_type": "code",
   "execution_count": 86,
   "metadata": {},
   "outputs": [
    {
     "data": {
      "image/png": "[encoded data removed]",
      "text/plain": [
       "<Figure size 432x288 with 1 Axes>"
      ]
     },
     "metadata": {},
     "output_type": "display_data"
    }
   ],
   "source": [
    "plt.plot_date(x=x_ticks, y= wanter_data, linestyle='-', marker=None)\n",
    "plt.title('People who Want Jobs but Aren\\'t Accounted for in America')\n",
    "plt.ylabel('Population (Millions)')\n",
    "plt.xticks(rotation=45)\n",
    "plt.show()"
   ]
  },
  {
   "cell_type": "code",
   "execution_count": 87,
   "metadata": {},
   "outputs": [],
   "source": [
    "unemp_data = []\n",
    "for date, data in zip(x_dates[:120],unemp_pop):\n",
    "    if 'Jan' in date:\n",
    "        unemp_data.append(data)\n",
    "pop_data = []\n",
    "for date, data in zip(pop_date,mil_pop_val):\n",
    "    if 'Jan' in date:\n",
    "        pop_data.append(data)"
   ]
  },
  {
   "cell_type": "code",
   "execution_count": 88,
   "metadata": {},
   "outputs": [],
   "source": [
    "jobless_pop = [sum(date) for date in zip(wanter_data, ss_pop, jail_pop_data[1:], child_pop, unemp_data)]\n",
    "aux_pop = [sum(date) for date in zip(wanter_data, ss_pop, jail_pop_data[1:], child_pop)]"
   ]
  },
  {
   "cell_type": "code",
   "execution_count": 89,
   "metadata": {},
   "outputs": [
    {
     "data": {
      "image/png": "[encoded data removed]",
      "text/plain": [
       "<Figure size 432x288 with 1 Axes>"
      ]
     },
     "metadata": {},
     "output_type": "display_data"
    }
   ],
   "source": [
    "plt.plot_date(x=x_ticks, y= jobless_pop, linestyle='-', marker=None, label='Jobless Population', color='green')\n",
    "plt.plot_date(x=x_ticks, y= unemp_data, linestyle='-', marker=None, label='Unemployment Population', color='blue')\n",
    "plt.plot_date(x=x_ticks, y= pop_data, linestyle='-', marker=None, label='U.S Population', color='red')\n",
    "\n",
    "plt.legend()\n",
    "plt.title('U.S Employment & Joblessness')\n",
    "plt.ylabel('Population (Millions)')\n",
    "plt.ylim(bottom=0)\n",
    "plt.xticks(rotation=45)\n",
    "plt.show()"
   ]
  },
  {
   "cell_type": "code",
   "execution_count": 90,
   "metadata": {},
   "outputs": [
    {
     "data": {
      "image/png": "[encoded data removed]",
      "text/plain": [
       "<Figure size 432x288 with 1 Axes>"
      ]
     },
     "metadata": {},
     "output_type": "display_data"
    }
   ],
   "source": [
    "plt.plot_date(x=x_ticks, y= jobless_pop, linestyle='-', marker=None, label='Jobless Population', color='green')\n",
    "plt.plot_date(x=x_ticks, y= unemp_data, linestyle='-', marker=None, label='Unemployment Population', color='blue')\n",
    "#plt.plot_date(x=x_ticks, y= aux_pop, linestyle='-', marker=None, label='Unaccounted Population', color='purple')\n",
    "\n",
    "plt.legend()\n",
    "plt.title('U.S Employment & Joblessness')\n",
    "plt.ylabel('Population (Millions)')\n",
    "plt.ylim(bottom=0)\n",
    "plt.xticks(rotation=45)\n",
    "plt.show()"
   ]
  },
  {
   "cell_type": "code",
   "execution_count": 91,
   "metadata": {},
   "outputs": [
    {
     "data": {
      "image/png": "[encoded data removed]",
      "text/plain": [
       "<Figure size 432x288 with 1 Axes>"
      ]
     },
     "metadata": {},
     "output_type": "display_data"
    }
   ],
   "source": [
    "job_rate = [100*a/b for a,b in zip(jobless_pop,pop_data)]\n",
    "unemp_rate = [100*a/b for a,b in zip(unemp_data,pop_data)]\n",
    "plt.plot_date(x=x_ticks, y=job_rate, linestyle='-', marker=None, label='Jobless Rate', color='green')\n",
    "#plt.plot_date(x=x_ticks, y=unemp_rate, linestyle='-', marker=None, label='Unemployment Rate', color='blue')\n",
    "plt.xticks(x_ticks,rotation=45)\n",
    "plt.title('U.S Employment & Joblessness')\n",
    "plt.ylabel('Population (%)')\n",
    "plt.show()"
   ]
  },
  {
   "cell_type": "code",
   "execution_count": 92,
   "metadata": {},
   "outputs": [],
   "source": [
    "y = job_rate\n",
    "x = [i for i in range(9,9+len(job_rate))]\n",
    "jobA,jobB = curve_fit(f, x, y)[0]\n",
    "\n",
    "y = unemp_rate\n",
    "x = [i for i in range(9,9+len(unemp_rate))]\n",
    "unempA,unempB = curve_fit(f, x, y)[0]"
   ]
  },
  {
   "cell_type": "code",
   "execution_count": 93,
   "metadata": {},
   "outputs": [
    {
     "name": "stdout",
     "output_type": "stream",
     "text": [
      "Jobless Slope: -0.5345551931884867\n",
      "Unemployment Slope: -0.6012121212156141\n"
     ]
    }
   ],
   "source": [
    "print('Jobless Slope:',jobA)\n",
    "print('Unemployment Slope:',unempA)"
   ]
  },
  {
   "cell_type": "markdown",
   "metadata": {},
   "source": [
    "So it seems that the jobless rate and unemployment rate both are _very_ close together, so much so their slopes are nearly identical. All this means is that the magnitude of change amongst the other areas of joblessness were not high enough to separate unemployment for joblessness... but now we know that! The real jobless rate in the U.S is actually around 43%, down from 46% in 2009 and a peak in 2010 of nearly 48%. This is still a great change, but \"only 4% unemployment\" is a much better political slogan than \"only 43% joblessness.\" \n",
    "\n",
    "43%. That number is quite astounding-- if you were to pull out a phonebook right now (if they still exit) and pick 5 random names out and called them at 2pm on a Tuesday, chances are 2 of them would not be at work. What this 43% also doesn't capture, which would make it soar even higher, are those who are not working full-time but are considered employed; remember that the unemployment rate doesn't count you if you work even 1 hour per week. Trying to capture this in data leads us down some big rabbit holes. What is considered \"enough\" hours to be employed? What if you work 60 hours but are below the poverty line? What if you work 1 hour but are paid $10,000 per hour? Exploring unemployment as a function of livable wages is a research question for another time\n",
    "\n",
    "What IS a fun question/scenario to explore is the following: \n",
    "> I am elected president, but after my first year my polls are down for re-election. I KNOW my only chance of winning a second term is to _dramatically_ slice the unemployment rate, so I can campaign on the fact that I've single handedly reduced unemployment to practically 0%. How can I do this as quickly, cheaply, and effectively as possible?\n",
    "\n",
    "This is scenario brings to mind Goodhart's Law:\n",
    "> \"When a measure becomes a target, it ceases to be a good measure.\" [10]\n",
    "\n",
    "This is seen all over the place. Schools use SATs and GREs as proxies for intelligence and potential for academic success, but now students take expensive course to learn how to maximize their score on these exams, regardless of their actual intelligence + academic success. Also seen in the story of when Hanoi tried to eradicate its rat problem, they used to pay people for each rat tail they turned in. But this led to citizens cutting of their tails for profit but leaving the rats alive so they could breed more rats & rat tails, eventually leading to a higher number of rats in the city [11]. This is also an example of the Cobra Effect. \n",
    "\n",
    "And now, we will do the same to the unemployment rate: reduce it to near 0% at any cost.\n",
    "\n",
    "Tentative: I will be using a scoring rubric of:\n",
    "1. Speed (In months)\n",
    "2. Cost (In 100 million increments)\n",
    "3. Feasibility (% chance of success... A lot of things are feasible, since I am the POTUS)\n",
    "4. Effecicacy (The Unemployment Rate)\n",
    "\n",
    "and the formula:\n",
    "\n",
    "    Plan = (6/Speed + 10/Cost)* (100 - Efficacy) * Feasibility * 100\n",
    "\n",
    "My Deep State cabinent has budgetted me $1 billion and 6 months to \"solve\" the problem of unemployment-- so a plan that (1) took exactly that long (2) with that amount of money (3) that certainly could be implemented and (4) reduced the unemployment to 0% would receive a score of 100\n",
    "\n",
    "All costs will be calculated for the remainder of my term, so 3 years"
   ]
  },
  {
   "cell_type": "markdown",
   "metadata": {},
   "source": [
    "Strategy Bank\n",
    "1. Increase Employment\n",
    "    - Mandatory Military (full active)\n",
    "    - Everyone has to work 1 hour per week\n",
    "        - Communal Work (Great Depression thingy)\n",
    "        - Data Collection\n",
    "    - Actually hire everyone for work relief\n",
    "    - Treat selling your data as a job\n",
    "2. Increase Joblessness\n",
    "    - It is illegal to not have a job\n",
    "    - Early Retirement\n",
    "    - UBI\n",
    "    - Young people aren't allowed to work\n",
    "3. Decrease/Increase Specific Population\n",
    "    - Get rid of Alabama (or most unemployed state)\n",
    "    - Consider work animals people"
   ]
  },
  {
   "cell_type": "code",
   "execution_count": 94,
   "metadata": {},
   "outputs": [
    {
     "name": "stdout",
     "output_type": "stream",
     "text": [
      "There were 13.40577 million people unemployed in 2018\n"
     ]
    }
   ],
   "source": [
    "print('There were',unemp_data[-1],'million people unemployed in 2018')"
   ]
  },
  {
   "cell_type": "markdown",
   "metadata": {},
   "source": [
    "# STRATEGY 1: INCREASE \"EMPLOYMENT\""
   ]
  },
  {
   "cell_type": "markdown",
   "metadata": {},
   "source": [
    "### Employment Increase #1. Mandatory Active Military Service\n",
    "##### If you don't have a job, you'll be forced to join the military until you find one."
   ]
  },
  {
   "cell_type": "code",
   "execution_count": 355,
   "metadata": {},
   "outputs": [
    {
     "name": "stdout",
     "output_type": "stream",
     "text": [
      "There were 1.31 million active military in 2018\n",
      "This would increase the size of our active military by  920.0 % to a total of 14.72 million\n",
      "4.5 % of the US population would be in the army\n"
     ]
    }
   ],
   "source": [
    "print('There were',round(enlist_data[-1],2),'million active military in 2018')\n",
    "delta_enlist = 100*(unemp_data[-1]-enlist_data[-1])/enlist_data[-1]\n",
    "print('This would increase the size of our active military by ',round(delta_enlist),'% to a total of', \\\n",
    "      round(unemp_data[-1] + enlist_data[-1],2), 'million')\n",
    "print(round(100*(unemp_data[-1] + enlist_data[-1])/pop_data[-1],2),'% of the US population would be in the army')"
   ]
  },
  {
   "cell_type": "markdown",
   "metadata": {},
   "source": [
    "How does that compare to the rest of the world?\n",
    "\n",
    "In terms of Brute Force: It would be by far the largest army of all time, beating out 3rd place wartime 1939 Germany at ~11 million, wartime 1943 USSR at ~11million wartime USA which peaked in 1945 at ~12 million, warime Germany.\n",
    "\n",
    "And in modern times: "
   ]
  },
  {
   "cell_type": "code",
   "execution_count": 496,
   "metadata": {},
   "outputs": [
    {
     "name": "stdout",
     "output_type": "stream",
     "text": [
      "The Top 15 active militaries have 10.48 million cumulative active soliders\n"
     ]
    }
   ],
   "source": [
    "modern_active_armies = {\n",
    "    'China':2.035,\n",
    "    'India': 1.395,\n",
    "    'North Korea': 1.28,\n",
    "    'Russia': .9,\n",
    "    'Pakistan': .653,\n",
    "    'South Korea': .625,\n",
    "    'Iran': .523,\n",
    "    'Vietnam': .482,\n",
    "    'Egypt': .438,\n",
    "    'Myanmar': .406,\n",
    "    'Indonesia': .395,\n",
    "    'Thailland': .360,\n",
    "    'Turkey': .355,\n",
    "    'Brazil': .344,\n",
    "    'Colombia': .292\n",
    "}\n",
    "top_15 = 0\n",
    "for key,val in modern_active_armies.items():\n",
    "    top_15 += val\n",
    "print('The Top 15 active militaries have',round(top_15,2),'million cumulative active soliders')"
   ]
  },
  {
   "cell_type": "code",
   "execution_count": 365,
   "metadata": {},
   "outputs": [
    {
     "name": "stdout",
     "output_type": "stream",
     "text": [
      "The Top 15 militaries have 40.7 million total soliders\n"
     ]
    }
   ],
   "source": [
    "modern_active_armies = {\n",
    "    'China':3.2,\n",
    "    'India': 5.07,\n",
    "    'North Korea': 7.77,\n",
    "    'Russia': 3.45,\n",
    "    'Pakistan': .935,\n",
    "    'South Korea': 6.734,\n",
    "    'Iran': .913,\n",
    "    'Vietnam': 5.522,\n",
    "    'Egypt': 1.314,\n",
    "    'Myanmar': .513,\n",
    "    'Indonesia': 1.1,\n",
    "    'Thailland': .700,\n",
    "    'Turkey': .890,\n",
    "    'Brazil': 2.07,\n",
    "    'Colombia': .516\n",
    "}\n",
    "top_15 = 0\n",
    "for key,val in modern_active_armies.items():\n",
    "    top_15 += val\n",
    "print('The Top 15 militaries have',round(top_15,2),'million total soliders')"
   ]
  },
  {
   "cell_type": "markdown",
   "metadata": {},
   "source": [
    "##### But who would win the risk match?\n",
    "\n",
    "![Risk Board](jobless_data/risk.jpg)"
   ]
  },
  {
   "cell_type": "code",
   "execution_count": 368,
   "metadata": {},
   "outputs": [
    {
     "name": "stdout",
     "output_type": "stream",
     "text": [
      "USA total army: 15.62 million\n"
     ]
    }
   ],
   "source": [
    "print('USA total army:',round(2.21+unemp_data[-1],2),'million')"
   ]
  },
  {
   "cell_type": "markdown",
   "metadata": {},
   "source": [
    "Spltting out total army (15.62) equally between Western + Eastern United States (Alaska doesn't get anything but is still our friend). How well does our world domination go?\n",
    "\n",
    "According to this paper [14] attackers are favored on average .158 per round, meaning that attackers lose 0.922 per round, and defenders lose 1.08. If we run a simulation..."
   ]
  },
  {
   "cell_type": "code",
   "execution_count": 389,
   "metadata": {},
   "outputs": [],
   "source": [
    "def risk_simulator(attack_str, attack_pop, defend_str, defend_pop):\n",
    "    print(attack_str,'('+str(round(attack_pop,2))+' million) vs',defend_str,'('+str(round(defend_pop,2))+' million)')\n",
    "    victory = False\n",
    "    new_attack = attack_pop\n",
    "    new_defend = defend_pop\n",
    "    while not victory:\n",
    "        new_attack+=-0.922\n",
    "        new_defend+=-1.08\n",
    "        if new_attack <=0.922:\n",
    "            victory = True\n",
    "            print(defend_str, 'wins with',new_defend,'remaining troops')\n",
    "        elif new_defend <=1.08:\n",
    "            victory = True\n",
    "            print(attack_str, 'win with',new_attack,'remaining troops')"
   ]
  },
  {
   "cell_type": "markdown",
   "metadata": {},
   "source": [
    "Note: I made an arbitrary rule that if you have less than 450k total soliders, the US would beat you with no casualties. This just stopped countries with less than half the requiremed soliders from destroying nearly a million of ours. Does this work? Who knows"
   ]
  },
  {
   "cell_type": "code",
   "execution_count": 392,
   "metadata": {},
   "outputs": [
    {
     "name": "stdout",
     "output_type": "stream",
     "text": [
      "EUS (8 million) vs Canada (0.97 million)\n",
      "EUS win with 7.078 remaining troops\n"
     ]
    }
   ],
   "source": [
    "# EUS vs. Canada\n",
    "risk_simulator('EUS',8,'Canada',0.97)"
   ]
  },
  {
   "cell_type": "code",
   "execution_count": 395,
   "metadata": {},
   "outputs": [
    {
     "name": "stdout",
     "output_type": "stream",
     "text": [
      "3.539 million troops decide to invade Asia,\n",
      " 3.539 million troops decide to invade Europe\n"
     ]
    }
   ],
   "source": [
    "print(7.078/2,'million troops decide to invade Asia,\\n', \\\n",
    "      7.078/2, 'million troops decide to invade Europe')"
   ]
  },
  {
   "cell_type": "code",
   "execution_count": 396,
   "metadata": {},
   "outputs": [
    {
     "name": "stdout",
     "output_type": "stream",
     "text": [
      "EUS_Euro win with 3.539 troops remaining\n"
     ]
    }
   ],
   "source": [
    "# EUS_Euro vs. Greenland\n",
    "# Greenland's military is actually controlled/is Denmark's miltary?!\n",
    "print('EUS_Euro wins with 3.539 troops remaining')"
   ]
  },
  {
   "cell_type": "code",
   "execution_count": 397,
   "metadata": {},
   "outputs": [
    {
     "name": "stdout",
     "output_type": "stream",
     "text": [
      "EUS_Euro win with 3.5365 troops remaining\n"
     ]
    }
   ],
   "source": [
    "# EUS_Euro vs. Iceland\n",
    "# Iceland only 250 people in the entire army?!\n",
    "# I gave them a 10:1 kill rate due to their magic troll powers\n",
    "print('EUS_Euro win with 3.5365 troops remaining')"
   ]
  },
  {
   "cell_type": "code",
   "execution_count": 411,
   "metadata": {},
   "outputs": [
    {
     "name": "stdout",
     "output_type": "stream",
     "text": [
      "EUS_Euro win with 3.53 troops remaining\n"
     ]
    }
   ],
   "source": [
    "# EUS_Euro vs. United Kingdom\n",
    "# UK gets 3:1 kill rate to help me round off this number\n",
    "print('EUS_Euro win with 3.53 troops remaining')"
   ]
  },
  {
   "cell_type": "code",
   "execution_count": 412,
   "metadata": {},
   "outputs": [
    {
     "name": "stdout",
     "output_type": "stream",
     "text": [
      "EUS_Euro (3.53 million) vs Western Europe (0.88 million)\n",
      "EUS_Euro win with 2.6079999999999997 remaining troops\n"
     ]
    }
   ],
   "source": [
    "# EUS_Euro vs. Western Europe\n",
    "france = .378\n",
    "spain = .213\n",
    "portugal = .286\n",
    "western_europe = france+spain+portugal\n",
    "risk_simulator('EUS_Euro',3.53,'Western Europe',western_europe)"
   ]
  },
  {
   "cell_type": "code",
   "execution_count": 414,
   "metadata": {},
   "outputs": [
    {
     "name": "stdout",
     "output_type": "stream",
     "text": [
      "EUS_Euro (2.61 million) vs Southern Europe (0.98 million)\n",
      "EUS_Euro win with 1.6858999999999997 remaining troops\n"
     ]
    }
   ],
   "source": [
    "# EUS_Euro vs. Southern Europe\n",
    "albania = 0.008\n",
    "bosnia = 0.010\n",
    "croatia = 0.018\n",
    "greece = .365\n",
    "italy = .375\n",
    "macedonia = 0.002\n",
    "romania = .200\n",
    "southern_europe = albania+bosnia+croatia+greece+italy+macedonia+romania\n",
    "risk_simulator('EUS_Euro',2.6079,'Southern Europe',southern_europe)"
   ]
  },
  {
   "cell_type": "code",
   "execution_count": 417,
   "metadata": {},
   "outputs": [
    {
     "name": "stdout",
     "output_type": "stream",
     "text": [
      "EUS_Euro (1.69 million) vs Northern Europe (0.55 million)\n",
      "Northern Europe wins with -0.533 remaining troops\n",
      "Northern Europe remains unconquered contest territory\n"
     ]
    }
   ],
   "source": [
    "# EUS_Euro vs. Northern Europe\n",
    "germany = .207\n",
    "netherlands = 0.045\n",
    "belgium = 0.033\n",
    "poland = .178\n",
    "austria = .174\n",
    "slovakia = 0.001\n",
    "hungary = 0.083\n",
    "northern_europe = germany+netherlands+belgium+poland+slovakia+hungary\n",
    "risk_simulator('EUS_Euro',1.6858,'Northern Europe',northern_europe)\n",
    "print('Northern Europe remains unconquered contest territory')"
   ]
  },
  {
   "cell_type": "code",
   "execution_count": 406,
   "metadata": {},
   "outputs": [
    {
     "name": "stdout",
     "output_type": "stream",
     "text": [
      "EUS_Asia (3.54 million) vs Russia (3.45 million)\n",
      "Russia wins with 0.21399999999999997 remaining troops\n",
      "Never go into a land war with Russia!\n"
     ]
    }
   ],
   "source": [
    "# EUS_Asia vs. Russia\n",
    "risk_simulator('EUS_Asia',3.539,'Russia',3.454)\n",
    "print('Never go into a land war with Russia!')"
   ]
  },
  {
   "cell_type": "code",
   "execution_count": 407,
   "metadata": {},
   "outputs": [
    {
     "name": "stdout",
     "output_type": "stream",
     "text": [
      "WUS (8 million) vs Central America (0.47 million)\n",
      "WUS win with 7.078 remaining troops\n"
     ]
    }
   ],
   "source": [
    "# WUS vs. Central America\n",
    "belize = .002\n",
    "mexico = .417\n",
    "salvador = .051\n",
    "honduras = .082\n",
    "nicaragua = .0012\n",
    "panama = .0022\n",
    "costa_rica = 0\n",
    "central_america = belize+mexico+salvador+nicaragua+panama+costa_rica\n",
    "risk_simulator('WUS',8,'Central America',central_america)"
   ]
  },
  {
   "cell_type": "code",
   "execution_count": 409,
   "metadata": {},
   "outputs": [
    {
     "name": "stdout",
     "output_type": "stream",
     "text": [
      "WUS (7.08 million) vs Venezuela (0.85 million)\n",
      "WUS win with 6.156000000000001 remaining troops\n"
     ]
    }
   ],
   "source": [
    "# WUS vs. 'Veneszuela' (and Columbia)\n",
    "risk_simulator('WUS',7.078,'Venezuela',.351+.5)"
   ]
  },
  {
   "cell_type": "code",
   "execution_count": 410,
   "metadata": {},
   "outputs": [
    {
     "name": "stdout",
     "output_type": "stream",
     "text": [
      "WUS (6.16 million) vs \"Peru\" (0.76 million)\n",
      "WUS win with 5.234 remaining troops\n"
     ]
    }
   ],
   "source": [
    "# WUS vs. 'Peru' \n",
    "ecuador = .158\n",
    "peru = .346\n",
    "bolvia = .071\n",
    "parguay = 0.189\n",
    "peru_risk = ecuador+peru+bolvia+parguay\n",
    "risk_simulator('WUS',6.156,'\"Peru\"',peru_risk)"
   ]
  },
  {
   "cell_type": "code",
   "execution_count": null,
   "metadata": {},
   "outputs": [],
   "source": [
    "# WUS vs. 'Argentina'\n",
    "# DQ due to Canada Rule"
   ]
  },
  {
   "cell_type": "code",
   "execution_count": 418,
   "metadata": {},
   "outputs": [
    {
     "name": "stdout",
     "output_type": "stream",
     "text": [
      "WUS (6.16 million) vs \"Brazil\" (2.07 million)\n",
      "WUS win with 5.234 remaining troops\n"
     ]
    }
   ],
   "source": [
    "# WUS vs. 'Brazil'\n",
    "brazil = 2.07\n",
    "uruguay = 0.025\n",
    "risk_simulator('WUS',6.156,'\"Brazil\"',brazil)"
   ]
  },
  {
   "cell_type": "code",
   "execution_count": 421,
   "metadata": {},
   "outputs": [
    {
     "name": "stdout",
     "output_type": "stream",
     "text": [
      "WUS (5.23 million) vs North Africa (1.04 million)\n",
      "WUS win with 4.312 remaining troops\n"
     ]
    }
   ],
   "source": [
    "# WUS vs. North Africa\n",
    "morocco = .395\n",
    "algeria = .467\n",
    "tunsinia = 0.047\n",
    "mauratania = 0.02\n",
    "niger = 0.01\n",
    "mali = 0.017\n",
    "cameroon = 0.023\n",
    "western_coast = 0.023\n",
    "chad = 0.039\n",
    "north_africa = morocco+algeria+tunsinia+mauratania+niger+ \\\n",
    "               mali+cameroon+western_coast+chad\n",
    "risk_simulator('WUS',5.234,'North Africa',north_africa)"
   ]
  },
  {
   "cell_type": "code",
   "execution_count": 422,
   "metadata": {},
   "outputs": [
    {
     "name": "stdout",
     "output_type": "stream",
     "text": [
      "WUS (4.31 million) vs Egypt (1.52 million)\n",
      "WUS win with 3.39 remaining troops\n"
     ]
    }
   ],
   "source": [
    "# WUS vs. Egypt\n",
    "eqypt = 1.314\n",
    "libya = 0 # Civil War\n",
    "sudan = .209\n",
    "egypt_risk = eqypt+sudan\n",
    "risk_simulator('WUS',4.312,'Egypt',egypt_risk)"
   ]
  },
  {
   "cell_type": "code",
   "execution_count": 424,
   "metadata": {},
   "outputs": [
    {
     "name": "stdout",
     "output_type": "stream",
     "text": [
      "WUS (3.39 million) vs Africa (1 million)\n",
      "WUS win with 2.468 remaining troops\n"
     ]
    }
   ],
   "source": [
    "# WUS vs.rest of Africa\n",
    "risk_simulator('WUS',3.39,'Africa',1)"
   ]
  },
  {
   "cell_type": "code",
   "execution_count": 425,
   "metadata": {},
   "outputs": [
    {
     "name": "stdout",
     "output_type": "stream",
     "text": [
      "WUS (2.47 million) vs Middle East (3.8 million)\n",
      "Middle East wins with 1.6440000000000001 remaining troops\n"
     ]
    }
   ],
   "source": [
    "# WUS vs. Middle East\n",
    "saudi_arabia = .251\n",
    "yemen = 0.02\n",
    "iran = 0.913\n",
    "afghanistan = .323\n",
    "iraq = .209\n",
    "turkey = 0.891\n",
    "israel = 0.649\n",
    "uae = 0.063\n",
    "oman = 0.047\n",
    "kuawait = 0.046\n",
    "qatar = 0.020\n",
    "syria = 0.292\n",
    "lebanon = 0.080\n",
    "middle_east = saudi_arabia+yemen+iran+afghanistan+iraq+turkey+ \\\n",
    "              israel+uae+oman+kuawait+qatar+syria+lebanon\n",
    "risk_simulator('WUS',2.468,'Middle East',middle_east)"
   ]
  },
  {
   "cell_type": "code",
   "execution_count": null,
   "metadata": {},
   "outputs": [],
   "source": [
    "# But we actually wouldn't want to invade all of these countries? Because \n",
    "# (1) We wouldn't take over the world\n",
    "# (2) We would cause millions of pointless deaths\n",
    "# (3) Most importantly we would actually increase our population and\n",
    "#     with the death and destruction there is probably a huge unemployment\n",
    "#     problem in the new territories we conquer and our unemployment rate\n",
    "#     would go up!"
   ]
  },
  {
   "cell_type": "markdown",
   "metadata": {},
   "source": [
    "### STRATEGY 2: MANDATORY EMPLOYMENT\n",
    "##### If you don't have a job, the government will pay you for 1 hour of work per week "
   ]
  },
  {
   "cell_type": "markdown",
   "metadata": {},
   "source": [
    "Essentially the worst work relief program every conceived. You can't really do anything for 1 hour, so the government would essentially be paying you to come pick up your paycheck. \n",
    "\n",
    "Minimum wage is 7.25 hr, so your paydays would be 14.50. But we have to make sure that everyone comes into work, right? Or else we are just giving them free money-- that's not a job!"
   ]
  },
  {
   "cell_type": "markdown",
   "metadata": {},
   "source": [
    "##### Can 1hr of minimum wage even pay for the gas it takes to get to work?"
   ]
  },
  {
   "cell_type": "code",
   "execution_count": 497,
   "metadata": {},
   "outputs": [],
   "source": [
    "# average commute is 25.4 minutes [15]\n",
    "# average gallon of gas is $3.54 [16]\n",
    "# average MPG of cars is 24.7 mpg [17]\n",
    "# Avergae car speed is 32 mph [18] * Not in LA man"
   ]
  },
  {
   "cell_type": "code",
   "execution_count": 442,
   "metadata": {},
   "outputs": [
    {
     "name": "stdout",
     "output_type": "stream",
     "text": [
      "Spend $ 3.88 per week to make $7.25\n",
      "Of your $ 377.0 salary...\n",
      "$ 201.92 is spent on gas ( 53.56 %)\n",
      "$ 37.7  is given as income tax ( 10% )\n",
      "That leaves you with $ 137.38  or $ 11 per month\n"
     ]
    }
   ],
   "source": [
    "salary = 7.25*52\n",
    "commute_distance = 25.4*2*32/60\n",
    "gallons_used = commute_distance/24.7\n",
    "gas_cost = gallons_used * 3.54\n",
    "gas_money = gas_cost*52\n",
    "tax = salary*.1\n",
    "remainder = salary - gas_money - tax\n",
    "print('Spend $',round(gas_cost,2),'per week to make $7.25')\n",
    "print('Of your $',salary,'salary...\\n$',round(gas_money,2),'is spent on gas (',round(100*gas_money/salary,2),'%)')\n",
    "print('$',tax,' is given as income tax ( 10% )')\n",
    "\n",
    "print('That leaves you with $', round(remainder,2),' or $', round(remainder/12), 'per month')"
   ]
  },
  {
   "cell_type": "markdown",
   "metadata": {},
   "source": [
    "That is laughably low... Your kid can probably make more money running a lemonade stand...but it's a job!\n",
    "\n",
    "##### How much will this cost me as President?"
   ]
  },
  {
   "cell_type": "code",
   "execution_count": 450,
   "metadata": {},
   "outputs": [
    {
     "name": "stdout",
     "output_type": "stream",
     "text": [
      "$ 5.05 billion dollars per year\n",
      "Only $ 4.55 billion dollars per year because of income tax!\n"
     ]
    }
   ],
   "source": [
    "print('$',round(unemp_data[-1]*7.25*52/1000,2),'billion dollars per year')\n",
    "print('Only $',round(unemp_data[-1]*7.25*52*0.9/1000,2),'billion dollars per year because of income tax!')"
   ]
  },
  {
   "cell_type": "markdown",
   "metadata": {},
   "source": [
    "### STRATEGY 3: Treat Selling your Data as a job\n",
    "##### Pay people for selling their data, kinda like royalties"
   ]
  },
  {
   "cell_type": "markdown",
   "metadata": {},
   "source": [
    "![Data](jobless_data/minute_data.png)"
   ]
  },
  {
   "cell_type": "markdown",
   "metadata": {},
   "source": [
    "\" 2.5 quintillion bytes of data each day \" [18]\n",
    "\n",
    "\n",
    "\" Over the last two years alone 90 percent of the data in the world was generated. \" [18]\n",
    "\n",
    "When I filled out [this survey](https://ig.ft.com/how-much-is-your-personal-data-worth/#axzz2z2agBB6R) it said my data was worth $0.3997\n",
    "\n",
    "What does this mean? Is it per day? Is it per transaction? Is it accurate? No idea. I'm just going to guess it is how much my data is worth per year. Big Data is a hot topic right now, and companies secretly selling your bikini instagram photos for money is a hot topic right now also. The combo of two \"in\" things created a terrifying vortex of meaningless content that just generates clicks and people then poorly cite in arguments and articles as facts, and thus the fake news hurricane grows ever stronger...\n",
    "\n",
    "Which is exactly what I'm doing!\n",
    "\n",
    "\n",
    "Your career selling your data nets you $0.4 per year, but more importantly, get's you off my unemployment list!! \n",
    "\n",
    "Also, is selling your data eligible for capital gains tax? Is it considered labor to create data? Tax people pls respond."
   ]
  },
  {
   "cell_type": "markdown",
   "metadata": {},
   "source": [
    "# STRATEGY 2: INCREASE JOBLESSNESS"
   ]
  },
  {
   "cell_type": "markdown",
   "metadata": {},
   "source": [
    "### Jobless Increase #1: It is illegal to not have a job\n",
    "##### If you are found without a job, you are thrown in jail for being un-American"
   ]
  },
  {
   "cell_type": "markdown",
   "metadata": {},
   "source": [
    "I belive it was George Washington who said, \"the most un-American thing you can be is unemployed. Please arrest on site everyone who doesn't have a job\"\n",
    "\n",
    "\n",
    "What a wise man indeed.\n",
    "\n",
    "Anyway:"
   ]
  },
  {
   "cell_type": "code",
   "execution_count": 457,
   "metadata": {},
   "outputs": [
    {
     "name": "stdout",
     "output_type": "stream",
     "text": [
      "There are 13.41 million unemployed Americans.\n",
      "Let's assume 30% of unemployed people take the first job they can find, but the remaining 70% still can't\n",
      "find a job\n",
      "Leaving 10.72 million new prisoners\n"
     ]
    }
   ],
   "source": [
    "print('There are',round(unemp_data[-1],2),'million unemployed Americans.')\n",
    "print('Let\\'s assume 30% of unemployed people take the first job they can find, but the remaining 70% still can\\'t') \n",
    "print('find a job')\n",
    "new_prisoners = unemp_data[-1]*.8,2\n",
    "print('Leaving',round(new_prisoners,2), 'million new prisoners')"
   ]
  },
  {
   "cell_type": "code",
   "execution_count": 463,
   "metadata": {},
   "outputs": [
    {
     "name": "stdout",
     "output_type": "stream",
     "text": [
      "It costs ~$31k per prisoner per year, meaning this plan will cost $ 332.32 billion annually\n",
      "In addition, each remodel is priced at $80,000 per new bed/inmate, resulting in $ 857.6 billion up front cost\n",
      "A pricetag of $ 1.18992 trillion is a little above my price tag\n"
     ]
    }
   ],
   "source": [
    "print('It costs ~$31k per prisoner per year, meaning this plan will cost $',new_prisoners*31,'billion annually')\n",
    "print('In addition, each remodel is priced at $80,000 per new bed/inmate, resulting in $',new_prisoners*80, 'billion up front cost')\n",
    "\n",
    "print('A pricetag of $',(new_prisoners*80+new_prisoners*31)/1000,'trillion is a little above my price tag')"
   ]
  },
  {
   "cell_type": "markdown",
   "metadata": {},
   "source": [
    "The American criminal justice system holds more than 2.3 million people in 1,719 state prisons, 102 federal prisons, 942 juvenile correctional facilities, 3,283 local jails, and 79 Indian Country jails as well as in military prisons, immigration detention facilities, civil commitment centers, and prisons in the U.S. "
   ]
  },
  {
   "cell_type": "code",
   "execution_count": 467,
   "metadata": {},
   "outputs": [],
   "source": [
    "num_jails = 1719+ 102 + 942 + 3283 + 79\n",
    "new_inmates_per_jail = (new_prisoners*million) / num_jails"
   ]
  },
  {
   "cell_type": "code",
   "execution_count": 470,
   "metadata": {},
   "outputs": [
    {
     "name": "stdout",
     "output_type": "stream",
     "text": [
      "Because \"building more prisons\" isn't very catchy campaign slogan, I'm not building more...\n",
      "just remodelling existing jails to hold 1750.0 more inmates each!\n"
     ]
    }
   ],
   "source": [
    "print('Because \"building more prisons\" isn\\'t very catchy campaign slogan, I\\'m not building more...')\n",
    "print('just remodelling existing jails to hold',round(new_inmates_per_jail),'more inmates each!')"
   ]
  },
  {
   "cell_type": "code",
   "execution_count": 494,
   "metadata": {},
   "outputs": [
    {
     "name": "stdout",
     "output_type": "stream",
     "text": [
      "To put that into perspective let's talk about lunchtime:\n",
      "As I know from movies, prison food is served in cafeteria style... like Chiptole! ^tm\n",
      "If there was a Chipotle in jail for lunch, your wait time has now increased 2042.0 minutes\n",
      "aka 34.0 hours\n",
      "Meaning to guarantee everyone got a lunch between 11:30 and 1:30 you would need 17.0 cafeteria lines running simultaneously\n",
      "\n",
      "and just to serve these new law-breaking unemployed people:\n",
      "If the average Chipotle prison order exceeds 49.37 seconds you enter...\n",
      "THE PRISON CAFETERIA MOBIUS STRIP\n",
      "The cafeteria can literally never stop serving food because people who get their food would immediately\n",
      "need to get back in line if they wanted to eat the next day\n"
     ]
    }
   ],
   "source": [
    "print('To put that into perspective let\\'s talk about lunchtime:')\n",
    "print('As I know from movies, prison food is served in cafeteria style... like Chiptole! ^tm')\n",
    "jail_wait_time = new_inmates_per_jail*70\n",
    "print('If there was a Chipotle in jail for lunch, your wait time has now increased', round(jail_wait_time/60),'minutes')\n",
    "print('aka',round(jail_wait_time/60/60),'hours')\n",
    "\n",
    "print('Meaning to guarantee everyone got a lunch between 11:30 and 1:30 you would need',round(jail_wait_time/60/60/2),'cafeteria lines running simultaneously')\n",
    "\n",
    "\n",
    "print('\\nand just to serve these new law-breaking unemployed people:')\n",
    "print('If the average Chipotle prison order exceeds 49.37 seconds you enter...')\n",
    "print('THE PRISON CAFETERIA MOBIUS STRIP')\n",
    "print('The cafeteria can literally never stop serving food because people who get their food would immediately')\n",
    "print('need to get back in line if they wanted to eat the next day')"
   ]
  },
  {
   "cell_type": "code",
   "execution_count": 495,
   "metadata": {},
   "outputs": [
    {
     "name": "stdout",
     "output_type": "stream",
     "text": [
      "on the plus side, housing this many new prisoners will result in more prison jobs!\n",
      "two birds one stone!\n"
     ]
    }
   ],
   "source": [
    "print('on the plus side, housing this many new prisoners will result in more prison jobs!')\n",
    "print('two birds one stone!')"
   ]
  },
  {
   "cell_type": "markdown",
   "metadata": {},
   "source": [
    "### Jobless Increase #2. Restrict Working Years\n",
    "#### Change child labor laws to include older kids and decrease retirement age so unemployment drops"
   ]
  },
  {
   "cell_type": "markdown",
   "metadata": {},
   "source": [
    "Nobody likes to work-- so why should you? As the most outstanding U.S President, I will make it _illegal_ to work if you are a certain age... and let's see how low the unemployment can go -- Unemployment Limbo!\n",
    "\n",
    "\n",
    "First, near retirement age people! If you're 55 years old, you're basically 65 and retired, so why not treat you as such? Let's move retirement up ( or down? I'm not sure which way is correct) to 55... and by \"move retirement\" I just mean pass the \"Elderly labor laws\" which restricts companies abilities to hire people over the age of 55. Does that mean that social security will expand to accomodate these newly retireds? Nope, your kids can take care of you. At 13% of the U.S Population, and assuming this position holds across all areas, this reduces unemployment to: 3.57% A new historic low, but probably not enough to get me reelected\n",
    "\n",
    "\n",
    "How about young adults? Working isn't important for them! They should be travelling the world, or living at home with their parents playing video games. Your teenage years and early 20s is about relaxing and no responsibility-- or so movies have taught me. Again, no new social aide program-- your aging parents can take care of you-- after all, they now are required by law to require at 55! They'll have so much free time. Subtracting them (9%) from the unemployed population as well gives us: 3.2%. Barely a dent. Damn millenials!\n",
    "\n",
    "Finally, let's the place the burden of work on only a quarter of the population: 35 - 54 year olds. After 35 years of relaxing and partying, these people would be greatful to work! In this new society, they probably are going through a reverse-midlife crisis, where after 35 years of trying new things and seeing the world and living carefree, they probably want to settle into a nice cozy desk job in a highrise for a few decades. If we play this out, our unemployment would drop to 2.71%, and this would drop even further because America would need all (eligible) hands on deck to fill the void left all the groups that limbo'd out of the workforce. \n",
    "\n",
    "First, by really simply math American workers would have to work 34% harder to make up for that drop in employees. The 40 hour week becomes the 54 hour week-- 10 + 3/4 hours per day is the norm-- maybe 8a to 6:45p becomes the 9 to 5. You could also opt for the easier 9 hour workday on a 6 day schedule, or a exhausting 13 + 1/2 hour 4 day work week... at least you get long weekends?\n",
    "\n",
    "If you worked a 12 hour 5 day work week already, you're now punching 80. 16 hour days. If you want 8hours of sleep, you can do literally nothing else but work and sleep. You can't even commute-- better move your mattress to the office over the weeked.If you worked 80 (or two full times) you now work an ungodly 107 hours per week (isn't that the name of a movie where the guy cuts his leg off?). You'll be in the office 21 + 1/2 hours a day. I'm tried just imagining it.\n",
    "\n",
    "With more hours-- more pay. You would also received a 34% raise to make up for these hellish hours. A 13 hour day doesn't sound so bad afterall now, does it? The average american now makes 67,000/year. The average CEO salary finally jumps from an abysmally low 13,940,000 to a more reasonable 18,680,000. Fun fact, for 213k per year, you can live on a cruise ship full time. I thought it would be WAY higher..."
   ]
  },
  {
   "cell_type": "code",
   "execution_count": 523,
   "metadata": {},
   "outputs": [
    {
     "name": "stdout",
     "output_type": "stream",
     "text": [
      "3.57 %\n",
      "3.2 %\n",
      "2.71 %\n",
      "0.34 % more work\n",
      "53.6 hour work week\n",
      "10.72 hours per 5 day work week\n",
      "8.93 hours per 6 day work week\n",
      "13.4 hours per 4 day work week\n",
      "80.4 hour work week for workaholics\n",
      "16.08 hours per 5 day work week for workaholics\n",
      "107.2 hour work week for work fiends\n",
      "21.44 hours per 5 day work week for work fiends\n",
      "$ 67.0 thousand average salary\n",
      "$ 18.68 million average salary\n"
     ]
    }
   ],
   "source": [
    "unemp_perc = 100*unemp_data[-1]/pop_data[-1]\n",
    "print(round(unemp_perc*(1-0.13),2),'%')\n",
    "print(round(unemp_perc*(1-0.13-0.09),2),'%')\n",
    "print(round(unemp_perc*(1-0.13-0.09-0.12),2),'%')\n",
    "print(round(0.13+0.09+0.12,2),'% more work')\n",
    "print(round(40*(1+0.13+0.09+0.12),2),'hour work week')\n",
    "print(round(40*(1+0.13+0.09+0.12)/5,2),'hours per 5 day work week')\n",
    "print(round(40*(1+0.13+0.09+0.12)/6,2),'hours per 6 day work week')\n",
    "print(round(40*(1+0.13+0.09+0.12)/4,2),'hours per 4 day work week')\n",
    "print(round(60*(1+0.13+0.09+0.12),2),'hour work week for workaholics')\n",
    "print(round(60*(1+0.13+0.09+0.12)/5,2),'hours per 5 day work week for workaholics')\n",
    "print(round(80*(1+0.13+0.09+0.12),2),'hour work week for work fiends')\n",
    "print(round(80*(1+0.13+0.09+0.12)/5,2),'hours per 5 day work week for work fiends')\n",
    "print('$',round(50*1.34,2),'thousand average salary')\n",
    "print('$',round(13.940*1.34,2),'million average salary')"
   ]
  },
  {
   "cell_type": "markdown",
   "metadata": {},
   "source": [
    "# Strategy 3: Decrease/Increase Specific Population\n",
    "\n",
    "#### Specific Population #1: Get rid of the most unemployed state(s)"
   ]
  },
  {
   "cell_type": "markdown",
   "metadata": {},
   "source": [
    "![Data](jobless_data/states.svg)"
   ]
  },
  {
   "cell_type": "code",
   "execution_count": 571,
   "metadata": {},
   "outputs": [],
   "source": [
    "from selenium import webdriver\n",
    "\n",
    "browser = webdriver.Chrome()\n",
    "\n",
    "# Get Unemploy numbers per state\n",
    "browser.get('https://www.bls.gov/web/laus/laumstrk.htm')\n",
    "\n",
    "elems = browser.find_elements_by_class_name('sub0')\n",
    "state_order = [elem.text for elem in elems]\n",
    "\n",
    "elems = browser.find_elements_by_class_name('datavalue') # This includes rank order in odd slots\n",
    "unemp_order = [elems[i].text for i in range(0,len(elems),2)]\n",
    "\n",
    "# Get Population per state\n",
    "browser.get('https://www.worldatlas.com/articles/us-states-by-population.html')\n",
    "\n",
    "close_div = browser.find_element_by_id('artReg-table')\n",
    "table = close_div.find_element_by_xpath('table/tbody')\n",
    "\n",
    "rows = table.find_elements_by_tag_name('tr')\n",
    "\n",
    "state_order_2 = []\n",
    "pop_order = []\n",
    "for row in rows:\n",
    "    data_vals = row.find_elements_by_tag_name('td')\n",
    "    state_order_2.append(data_vals[1].text)\n",
    "    pop_order.append(data_vals[2].text)\n",
    "browser.close()"
   ]
  },
  {
   "cell_type": "code",
   "execution_count": 576,
   "metadata": {},
   "outputs": [],
   "source": [
    "import locale\n",
    "int_pop_order = [locale.atoi(i) for i in pop_order]\n",
    "flt_unemp_order = [float(i) for i in unemp_order]"
   ]
  },
  {
   "cell_type": "code",
   "execution_count": 587,
   "metadata": {},
   "outputs": [
    {
     "data": {
      "text/html": [
       "<div>\n",
       "<style scoped>\n",
       "    .dataframe tbody tr th:only-of-type {\n",
       "        vertical-align: middle;\n",
       "    }\n",
       "\n",
       "    .dataframe tbody tr th {\n",
       "        vertical-align: top;\n",
       "    }\n",
       "\n",
       "    .dataframe thead th {\n",
       "        text-align: right;\n",
       "    }\n",
       "</style>\n",
       "<table border=\"1\" class=\"dataframe\">\n",
       "  <thead>\n",
       "    <tr style=\"text-align: right;\">\n",
       "      <th></th>\n",
       "      <th>State</th>\n",
       "      <th>Unemployment (%)</th>\n",
       "      <th>Population</th>\n",
       "      <th>Unemployed Pop</th>\n",
       "    </tr>\n",
       "  </thead>\n",
       "  <tbody>\n",
       "    <tr>\n",
       "      <th>37</th>\n",
       "      <td>California</td>\n",
       "      <td>4.2</td>\n",
       "      <td>39536653</td>\n",
       "      <td>1660539.0</td>\n",
       "    </tr>\n",
       "    <tr>\n",
       "      <th>30</th>\n",
       "      <td>Texas</td>\n",
       "      <td>3.8</td>\n",
       "      <td>28304596</td>\n",
       "      <td>1075575.0</td>\n",
       "    </tr>\n",
       "    <tr>\n",
       "      <th>31</th>\n",
       "      <td>New York</td>\n",
       "      <td>3.9</td>\n",
       "      <td>19849399</td>\n",
       "      <td>774127.0</td>\n",
       "    </tr>\n",
       "    <tr>\n",
       "      <th>17</th>\n",
       "      <td>Florida</td>\n",
       "      <td>3.4</td>\n",
       "      <td>20984400</td>\n",
       "      <td>713470.0</td>\n",
       "    </tr>\n",
       "    <tr>\n",
       "      <th>39</th>\n",
       "      <td>Illinois</td>\n",
       "      <td>4.3</td>\n",
       "      <td>12802023</td>\n",
       "      <td>550487.0</td>\n",
       "    </tr>\n",
       "    <tr>\n",
       "      <th>44</th>\n",
       "      <td>Ohio</td>\n",
       "      <td>4.7</td>\n",
       "      <td>11658609</td>\n",
       "      <td>547955.0</td>\n",
       "    </tr>\n",
       "    <tr>\n",
       "      <th>36</th>\n",
       "      <td>Pennsylvania</td>\n",
       "      <td>4.1</td>\n",
       "      <td>12805537</td>\n",
       "      <td>525027.0</td>\n",
       "    </tr>\n",
       "    <tr>\n",
       "      <th>32</th>\n",
       "      <td>Michigan</td>\n",
       "      <td>4.0</td>\n",
       "      <td>9962311</td>\n",
       "      <td>398492.0</td>\n",
       "    </tr>\n",
       "    <tr>\n",
       "      <th>27</th>\n",
       "      <td>Georgia</td>\n",
       "      <td>3.8</td>\n",
       "      <td>10429379</td>\n",
       "      <td>396316.0</td>\n",
       "    </tr>\n",
       "    <tr>\n",
       "      <th>29</th>\n",
       "      <td>North Carolina</td>\n",
       "      <td>3.8</td>\n",
       "      <td>10273419</td>\n",
       "      <td>390390.0</td>\n",
       "    </tr>\n",
       "    <tr>\n",
       "      <th>33</th>\n",
       "      <td>New Jersey</td>\n",
       "      <td>4.0</td>\n",
       "      <td>9005644</td>\n",
       "      <td>360226.0</td>\n",
       "    </tr>\n",
       "    <tr>\n",
       "      <th>46</th>\n",
       "      <td>Arizona</td>\n",
       "      <td>5.1</td>\n",
       "      <td>7016270</td>\n",
       "      <td>357830.0</td>\n",
       "    </tr>\n",
       "    <tr>\n",
       "      <th>42</th>\n",
       "      <td>Washington</td>\n",
       "      <td>4.5</td>\n",
       "      <td>7405743</td>\n",
       "      <td>333258.0</td>\n",
       "    </tr>\n",
       "    <tr>\n",
       "      <th>7</th>\n",
       "      <td>Virginia</td>\n",
       "      <td>2.8</td>\n",
       "      <td>8470020</td>\n",
       "      <td>237161.0</td>\n",
       "    </tr>\n",
       "    <tr>\n",
       "      <th>20</th>\n",
       "      <td>Indiana</td>\n",
       "      <td>3.5</td>\n",
       "      <td>6666818</td>\n",
       "      <td>233339.0</td>\n",
       "    </tr>\n",
       "    <tr>\n",
       "      <th>45</th>\n",
       "      <td>Louisiana</td>\n",
       "      <td>4.9</td>\n",
       "      <td>4684333</td>\n",
       "      <td>229532.0</td>\n",
       "    </tr>\n",
       "    <tr>\n",
       "      <th>24</th>\n",
       "      <td>Maryland</td>\n",
       "      <td>3.7</td>\n",
       "      <td>6052177</td>\n",
       "      <td>223931.0</td>\n",
       "    </tr>\n",
       "    <tr>\n",
       "      <th>16</th>\n",
       "      <td>Tennessee</td>\n",
       "      <td>3.3</td>\n",
       "      <td>6715984</td>\n",
       "      <td>221627.0</td>\n",
       "    </tr>\n",
       "    <tr>\n",
       "      <th>11</th>\n",
       "      <td>Massachusetts</td>\n",
       "      <td>3.1</td>\n",
       "      <td>6859819</td>\n",
       "      <td>212654.0</td>\n",
       "    </tr>\n",
       "    <tr>\n",
       "      <th>23</th>\n",
       "      <td>Colorado</td>\n",
       "      <td>3.7</td>\n",
       "      <td>5607154</td>\n",
       "      <td>207465.0</td>\n",
       "    </tr>\n",
       "    <tr>\n",
       "      <th>13</th>\n",
       "      <td>Missouri</td>\n",
       "      <td>3.2</td>\n",
       "      <td>6113532</td>\n",
       "      <td>195633.0</td>\n",
       "    </tr>\n",
       "    <tr>\n",
       "      <th>38</th>\n",
       "      <td>Kentucky</td>\n",
       "      <td>4.2</td>\n",
       "      <td>4454189</td>\n",
       "      <td>187076.0</td>\n",
       "    </tr>\n",
       "    <tr>\n",
       "      <th>25</th>\n",
       "      <td>Alabama</td>\n",
       "      <td>3.8</td>\n",
       "      <td>4874747</td>\n",
       "      <td>185240.0</td>\n",
       "    </tr>\n",
       "    <tr>\n",
       "      <th>40</th>\n",
       "      <td>Oregon</td>\n",
       "      <td>4.3</td>\n",
       "      <td>4142776</td>\n",
       "      <td>178139.0</td>\n",
       "    </tr>\n",
       "    <tr>\n",
       "      <th>10</th>\n",
       "      <td>Wisconsin</td>\n",
       "      <td>3.0</td>\n",
       "      <td>5795483</td>\n",
       "      <td>173864.0</td>\n",
       "    </tr>\n",
       "    <tr>\n",
       "      <th>9</th>\n",
       "      <td>Minnesota</td>\n",
       "      <td>3.0</td>\n",
       "      <td>5576606</td>\n",
       "      <td>167298.0</td>\n",
       "    </tr>\n",
       "    <tr>\n",
       "      <th>15</th>\n",
       "      <td>South Carolina</td>\n",
       "      <td>3.2</td>\n",
       "      <td>5024369</td>\n",
       "      <td>160780.0</td>\n",
       "    </tr>\n",
       "    <tr>\n",
       "      <th>43</th>\n",
       "      <td>Mississippi</td>\n",
       "      <td>4.7</td>\n",
       "      <td>2984100</td>\n",
       "      <td>140253.0</td>\n",
       "    </tr>\n",
       "    <tr>\n",
       "      <th>26</th>\n",
       "      <td>Connecticut</td>\n",
       "      <td>3.8</td>\n",
       "      <td>3588184</td>\n",
       "      <td>136351.0</td>\n",
       "    </tr>\n",
       "    <tr>\n",
       "      <th>41</th>\n",
       "      <td>Nevada</td>\n",
       "      <td>4.4</td>\n",
       "      <td>2998039</td>\n",
       "      <td>131914.0</td>\n",
       "    </tr>\n",
       "    <tr>\n",
       "      <th>14</th>\n",
       "      <td>Oklahoma</td>\n",
       "      <td>3.2</td>\n",
       "      <td>3930864</td>\n",
       "      <td>125788.0</td>\n",
       "    </tr>\n",
       "    <tr>\n",
       "      <th>22</th>\n",
       "      <td>Arkansas</td>\n",
       "      <td>3.7</td>\n",
       "      <td>3004279</td>\n",
       "      <td>111158.0</td>\n",
       "    </tr>\n",
       "    <tr>\n",
       "      <th>47</th>\n",
       "      <td>New Mexico</td>\n",
       "      <td>5.1</td>\n",
       "      <td>2088070</td>\n",
       "      <td>106492.0</td>\n",
       "    </tr>\n",
       "    <tr>\n",
       "      <th>18</th>\n",
       "      <td>Kansas</td>\n",
       "      <td>3.4</td>\n",
       "      <td>2913123</td>\n",
       "      <td>99046.0</td>\n",
       "    </tr>\n",
       "    <tr>\n",
       "      <th>12</th>\n",
       "      <td>Utah</td>\n",
       "      <td>3.1</td>\n",
       "      <td>3101833</td>\n",
       "      <td>96157.0</td>\n",
       "    </tr>\n",
       "    <tr>\n",
       "      <th>48</th>\n",
       "      <td>West Virginia</td>\n",
       "      <td>5.2</td>\n",
       "      <td>1815857</td>\n",
       "      <td>94425.0</td>\n",
       "    </tr>\n",
       "    <tr>\n",
       "      <th>0</th>\n",
       "      <td>Iowa</td>\n",
       "      <td>2.4</td>\n",
       "      <td>3145711</td>\n",
       "      <td>75497.0</td>\n",
       "    </tr>\n",
       "    <tr>\n",
       "      <th>6</th>\n",
       "      <td>Nebraska</td>\n",
       "      <td>2.8</td>\n",
       "      <td>1920076</td>\n",
       "      <td>53762.0</td>\n",
       "    </tr>\n",
       "    <tr>\n",
       "      <th>49</th>\n",
       "      <td>Alaska</td>\n",
       "      <td>6.5</td>\n",
       "      <td>739795</td>\n",
       "      <td>48087.0</td>\n",
       "    </tr>\n",
       "    <tr>\n",
       "      <th>5</th>\n",
       "      <td>Idaho</td>\n",
       "      <td>2.8</td>\n",
       "      <td>1716943</td>\n",
       "      <td>48074.0</td>\n",
       "    </tr>\n",
       "    <tr>\n",
       "      <th>21</th>\n",
       "      <td>Maine</td>\n",
       "      <td>3.5</td>\n",
       "      <td>1335907</td>\n",
       "      <td>46757.0</td>\n",
       "    </tr>\n",
       "    <tr>\n",
       "      <th>34</th>\n",
       "      <td>Rhode Island</td>\n",
       "      <td>4.0</td>\n",
       "      <td>1059639</td>\n",
       "      <td>42386.0</td>\n",
       "    </tr>\n",
       "    <tr>\n",
       "      <th>28</th>\n",
       "      <td>Montana</td>\n",
       "      <td>3.8</td>\n",
       "      <td>1050493</td>\n",
       "      <td>39919.0</td>\n",
       "    </tr>\n",
       "    <tr>\n",
       "      <th>4</th>\n",
       "      <td>Hawaii</td>\n",
       "      <td>2.7</td>\n",
       "      <td>1427538</td>\n",
       "      <td>38544.0</td>\n",
       "    </tr>\n",
       "    <tr>\n",
       "      <th>19</th>\n",
       "      <td>Delaware</td>\n",
       "      <td>3.5</td>\n",
       "      <td>961939</td>\n",
       "      <td>33668.0</td>\n",
       "    </tr>\n",
       "    <tr>\n",
       "      <th>1</th>\n",
       "      <td>New Hampshire</td>\n",
       "      <td>2.4</td>\n",
       "      <td>1342795</td>\n",
       "      <td>32227.0</td>\n",
       "    </tr>\n",
       "    <tr>\n",
       "      <th>8</th>\n",
       "      <td>South Dakota</td>\n",
       "      <td>2.9</td>\n",
       "      <td>869666</td>\n",
       "      <td>25220.0</td>\n",
       "    </tr>\n",
       "    <tr>\n",
       "      <th>35</th>\n",
       "      <td>Wyoming</td>\n",
       "      <td>4.0</td>\n",
       "      <td>579315</td>\n",
       "      <td>23173.0</td>\n",
       "    </tr>\n",
       "    <tr>\n",
       "      <th>2</th>\n",
       "      <td>North Dakota</td>\n",
       "      <td>2.5</td>\n",
       "      <td>755393</td>\n",
       "      <td>18885.0</td>\n",
       "    </tr>\n",
       "    <tr>\n",
       "      <th>3</th>\n",
       "      <td>Vermont</td>\n",
       "      <td>2.5</td>\n",
       "      <td>623657</td>\n",
       "      <td>15591.0</td>\n",
       "    </tr>\n",
       "  </tbody>\n",
       "</table>\n",
       "</div>"
      ],
      "text/plain": [
       "             State  Unemployment (%)  Population  Unemployed Pop\n",
       "37      California               4.2    39536653       1660539.0\n",
       "30           Texas               3.8    28304596       1075575.0\n",
       "31        New York               3.9    19849399        774127.0\n",
       "17         Florida               3.4    20984400        713470.0\n",
       "39        Illinois               4.3    12802023        550487.0\n",
       "44            Ohio               4.7    11658609        547955.0\n",
       "36    Pennsylvania               4.1    12805537        525027.0\n",
       "32        Michigan               4.0     9962311        398492.0\n",
       "27         Georgia               3.8    10429379        396316.0\n",
       "29  North Carolina               3.8    10273419        390390.0\n",
       "33      New Jersey               4.0     9005644        360226.0\n",
       "46         Arizona               5.1     7016270        357830.0\n",
       "42      Washington               4.5     7405743        333258.0\n",
       "7         Virginia               2.8     8470020        237161.0\n",
       "20         Indiana               3.5     6666818        233339.0\n",
       "45       Louisiana               4.9     4684333        229532.0\n",
       "24        Maryland               3.7     6052177        223931.0\n",
       "16       Tennessee               3.3     6715984        221627.0\n",
       "11   Massachusetts               3.1     6859819        212654.0\n",
       "23        Colorado               3.7     5607154        207465.0\n",
       "13        Missouri               3.2     6113532        195633.0\n",
       "38        Kentucky               4.2     4454189        187076.0\n",
       "25         Alabama               3.8     4874747        185240.0\n",
       "40          Oregon               4.3     4142776        178139.0\n",
       "10       Wisconsin               3.0     5795483        173864.0\n",
       "9        Minnesota               3.0     5576606        167298.0\n",
       "15  South Carolina               3.2     5024369        160780.0\n",
       "43     Mississippi               4.7     2984100        140253.0\n",
       "26     Connecticut               3.8     3588184        136351.0\n",
       "41          Nevada               4.4     2998039        131914.0\n",
       "14        Oklahoma               3.2     3930864        125788.0\n",
       "22        Arkansas               3.7     3004279        111158.0\n",
       "47      New Mexico               5.1     2088070        106492.0\n",
       "18          Kansas               3.4     2913123         99046.0\n",
       "12            Utah               3.1     3101833         96157.0\n",
       "48   West Virginia               5.2     1815857         94425.0\n",
       "0             Iowa               2.4     3145711         75497.0\n",
       "6         Nebraska               2.8     1920076         53762.0\n",
       "49          Alaska               6.5      739795         48087.0\n",
       "5            Idaho               2.8     1716943         48074.0\n",
       "21           Maine               3.5     1335907         46757.0\n",
       "34    Rhode Island               4.0     1059639         42386.0\n",
       "28         Montana               3.8     1050493         39919.0\n",
       "4           Hawaii               2.7     1427538         38544.0\n",
       "19        Delaware               3.5      961939         33668.0\n",
       "1    New Hampshire               2.4     1342795         32227.0\n",
       "8     South Dakota               2.9      869666         25220.0\n",
       "35         Wyoming               4.0      579315         23173.0\n",
       "2     North Dakota               2.5      755393         18885.0\n",
       "3          Vermont               2.5      623657         15591.0"
      ]
     },
     "execution_count": 587,
     "metadata": {},
     "output_type": "execute_result"
    }
   ],
   "source": [
    "unemp_pdf = pd.DataFrame(\n",
    "{\n",
    "    'State':state_order,\n",
    "    'Unemployment (%)':flt_unemp_order\n",
    "})\n",
    "\n",
    "pop_pdf = pd.DataFrame({\n",
    "    'State':state_order_2,\n",
    "    'Population':int_pop_order\n",
    "})\n",
    "\n",
    "unemp_pop_pdf = pd.merge(unemp_pdf,pop_pdf,on='State')\n",
    "unemp_pop_pdf['Unemployed Pop'] = round(unemp_pop_pdf['Population']*unemp_pop_pdf['Unemployment (%)']/100)\n",
    "unemp_pop_pdf = unemp_pop_pdf.sort_values('Unemployed Pop', ascending=False)\n",
    "unemp_pop_pdf"
   ]
  },
  {
   "cell_type": "code",
   "execution_count": 600,
   "metadata": {},
   "outputs": [
    {
     "data": {
      "text/plain": [
       "4.1"
      ]
     },
     "execution_count": 600,
     "metadata": {},
     "output_type": "execute_result"
    }
   ],
   "source": [
    "100*(unemp_data[-1]*million)/(pop_data[-1]*million)"
   ]
  },
  {
   "cell_type": "code",
   "execution_count": 606,
   "metadata": {},
   "outputs": [
    {
     "name": "stdout",
     "output_type": "stream",
     "text": [
      "Kicking out California:\n",
      "Down to  3.61 %\n",
      "Kicking out California: & Texas\n",
      "Down to  3.29 %\n"
     ]
    }
   ],
   "source": [
    "print('Kicking out California:')\n",
    "print('Down to ', round(100*(unemp_data[-1]*million-1660539)/(pop_data[-1]*million-1660539),2),'%')\n",
    "print('Kicking out California: & Texas')\n",
    "print('Down to ', round(100*(unemp_data[-1]*million-1660539-1075575)/(pop_data[-1]*million-1660539-1075575),2),'%')"
   ]
  },
  {
   "cell_type": "code",
   "execution_count": 608,
   "metadata": {},
   "outputs": [
    {
     "name": "stdout",
     "output_type": "stream",
     "text": [
      "Average across states is 3.72 %\n"
     ]
    }
   ],
   "source": [
    "import numpy as np\n",
    "print('Average across states is', round(np.mean(unemp_pop_pdf['Unemployment (%)']),2),'%')"
   ]
  },
  {
   "cell_type": "code",
   "execution_count": 610,
   "metadata": {},
   "outputs": [
    {
     "name": "stdout",
     "output_type": "stream",
     "text": [
      "Kicking out \"Newer Mexico\" (CA,AZ,NM,TX)\n",
      "Down to  3.15 %\n"
     ]
    }
   ],
   "source": [
    "print('Kicking out \"Newer Mexico\" (CA,AZ,NM,TX)')\n",
    "print('Down to ', round(100*(unemp_data[-1]*million-1660539-1075575-357830-106492)/\n",
    "                        (pop_data[-1]*million-1660539-1075575-357830-106492),2),'%')"
   ]
  },
  {
   "cell_type": "code",
   "execution_count": 98,
   "metadata": {},
   "outputs": [],
   "source": [
    "billion = million*1000\n",
    "trillion = billion*1000\n",
    "\n",
    "usa_gdp = 19.39*trillion\n",
    "tx_gdp = 1.639*trillion\n",
    "ca_gdp = 2.448*trillion\n",
    "nm_gdp = 76.18*billion\n",
    "az_gdp = 247*billion"
   ]
  },
  {
   "cell_type": "code",
   "execution_count": 100,
   "metadata": {},
   "outputs": [
    {
     "data": {
      "text/plain": [
       "(22.744610624033008, '% of USA GDP within Newer Mexico')"
      ]
     },
     "execution_count": 100,
     "metadata": {},
     "output_type": "execute_result"
    }
   ],
   "source": [
    "float(100*(tx_gdp+ca_gdp+nm_gdp+az_gdp)/usa_gdp), '% of USA GDP within Newer Mexico'"
   ]
  },
  {
   "cell_type": "code",
   "execution_count": 101,
   "metadata": {},
   "outputs": [],
   "source": [
    "# Introducing the USE: The United States of Employment\n",
    "nrm_gdp = tx_gdp+ca_gdp+nm_gdp+az_gdp\n",
    "use_gdp = usa_gdp - nrm_gdp"
   ]
  },
  {
   "cell_type": "code",
   "execution_count": 107,
   "metadata": {},
   "outputs": [],
   "source": [
    "china_gdp = 12.237*trillion\n",
    "japan_gdp = 4.872*trillion\n",
    "germany_gdp = 3.677*trillion\n",
    "uk_gdp = 2.622*trillion\n",
    "india_gdp = 2.6*trillion\n",
    "france_gdp = 2.582*trillion\n",
    "brazil_gdp = 2.055*trillion\n",
    "italy_gdp = 1.934*trillion\n",
    "canada_gdp = 1.653*trillion\n",
    "russia_gdp = 1.577*trillion \n",
    "\n",
    "gdp_dict = {\n",
    "    'Newer Mexico':nrm_gdp,\n",
    "    'United States of Employment': use_gdp,\n",
    "    'China': china_gdp,\n",
    "    'Japan':japan_gdp,\n",
    "    'United Kingdom':uk_gdp,\n",
    "    'Germany': germany_gdp,\n",
    "    'India': india_gdp,\n",
    "    'France': france_gdp,\n",
    "    'Brazil': brazil_gdp,\n",
    "    'Italy': italy_gdp,\n",
    "    'Canada': canada_gdp,\n",
    "    'Russia': russia_gdp\n",
    "}"
   ]
  },
  {
   "cell_type": "code",
   "execution_count": 108,
   "metadata": {},
   "outputs": [
    {
     "data": {
      "text/plain": [
       "[('Russia', 1577000000000.0),\n",
       " ('Canada', 1653000000000.0),\n",
       " ('Italy', 1934000000000.0),\n",
       " ('Brazil', 2055000000000.0002),\n",
       " ('France', 2582000000000.0),\n",
       " ('India', 2600000000000.0),\n",
       " ('United Kingdom', 2622000000000.0),\n",
       " ('Germany', 3677000000000.0),\n",
       " ('Newer Mexico', 4410180000000.0),\n",
       " ('Japan', 4872000000000.0),\n",
       " ('China', 12237000000000.0),\n",
       " ('United States of Employment', 14979820000000.0)]"
      ]
     },
     "execution_count": 108,
     "metadata": {},
     "output_type": "execute_result"
    }
   ],
   "source": [
    "from collections import OrderedDict\n",
    "\n",
    "sorted(gdp_dict.items(), key=lambda kv: kv[1])"
   ]
  },
  {
   "cell_type": "code",
   "execution_count": 111,
   "metadata": {},
   "outputs": [
    {
     "name": "stdout",
     "output_type": "stream",
     "text": [
      "Newer Mexico would become the 4th largest economy in the world!\n"
     ]
    }
   ],
   "source": [
    "print('Newer Mexico would become the 4th largest economy in the world!')"
   ]
  },
  {
   "cell_type": "markdown",
   "metadata": {},
   "source": [
    "#### Strategy 2: Consider work Animals People"
   ]
  },
  {
   "cell_type": "markdown",
   "metadata": {},
   "source": [
    "First, I considered \"work animals\" farm animals that are not killed for food (or at least primarily serve a secondary purpose, so making the distinction between dairy cows and beef cows, while not including pigs"
   ]
  },
  {
   "cell_type": "code",
   "execution_count": 122,
   "metadata": {},
   "outputs": [],
   "source": [
    "horse_pop = 9.2\n",
    "sheep_pop = 45\n",
    "cows_pop = 9\n",
    "hens_pop = 350\n",
    "donkey_pop = 44*0.1\n",
    "military_dog = 1600/million\n",
    "police_dog = 50000/million"
   ]
  },
  {
   "cell_type": "code",
   "execution_count": 127,
   "metadata": {},
   "outputs": [
    {
     "name": "stdout",
     "output_type": "stream",
     "text": [
      "new umeployment with horses, donkeys, and guard dogs included: 3.94 %\n"
     ]
    }
   ],
   "source": [
    "print('new umeployment with horses, donkeys, and guard dogs included:',\n",
    "     round(100*unemp_data[-1]/(pop_data[-1]+horse_pop+donkey_pop+military_dog+police_dog),2),\n",
    "     '%')"
   ]
  },
  {
   "cell_type": "code",
   "execution_count": 130,
   "metadata": {},
   "outputs": [
    {
     "name": "stdout",
     "output_type": "stream",
     "text": [
      "new umeployment with horses, donkeys, guard dogs, egg hens and dairy cows included: 1.92 %\n"
     ]
    }
   ],
   "source": [
    "print('new umeployment with horses, donkeys, guard dogs, egg hens and dairy cows included:',\n",
    "     round(100*unemp_data[-1]/(pop_data[-1]+horse_pop+donkey_pop+military_dog+\n",
    "                               police_dog+cows_pop+hens_pop)\n",
    "           ,2),'%')"
   ]
  },
  {
   "cell_type": "markdown",
   "metadata": {},
   "source": [
    "At first I thought that these new workers could just be considered non-U.S Citizens with work visas, and the only paperwork required would be getting their EAD. BUT as I began to fill out the form as a chicken to see if I qualify under the current law, I realized something-- all of these work animals were born within the United States. Making them citizens.\n",
    "\n",
    "Birthright Citizenship makes our cows and hens united states citizens\n",
    "\n",
    "With this be the fall of democracy? \n",
    "\n",
    "Probably not. Since Hens and Dogs don't typically live to be 18, most won't be able to vote.\n",
    "\n",
    "BUT due to compulsury education laws, we would have to send all of these animals to school. And it is the perogative of public school to teach students english even if they don't speak it. Like if that student was a horse.\n",
    "\n",
    "\n",
    "\n",
    "These new workers can be included in the unemployment + population numbers as non-U.S Citizens. So while the donkeys couldn't vote, they could (and need to be given) the following:\n",
    " 1. "
   ]
  },
  {
   "cell_type": "code",
   "execution_count": 131,
   "metadata": {},
   "outputs": [],
   "source": [
    "student_pop = 74.6\n",
    "teacher_pop = 3.6"
   ]
  },
  {
   "cell_type": "code",
   "execution_count": 134,
   "metadata": {},
   "outputs": [],
   "source": [
    "teacher_student_ratio = round(student_pop/teacher_pop,2)"
   ]
  },
  {
   "cell_type": "code",
   "execution_count": 154,
   "metadata": {},
   "outputs": [
    {
     "name": "stdout",
     "output_type": "stream",
     "text": [
      "20.72 students per teacher\n",
      "372.65 million new students\n",
      "17985116 new teachers. Who just teach animals english\n"
     ]
    }
   ],
   "source": [
    "print(teacher_student_ratio,'students per teacher')\n",
    "print(round(horse_pop+donkey_pop+military_dog+police_dog+cows_pop+hens_pop,2),\n",
    "      'million new students')\n",
    "print(round((million*(horse_pop+donkey_pop+military_dog+police_dog+cows_pop+hens_pop))/teacher_student_ratio),\n",
    "     'new teachers. Who just teach animals english')"
   ]
  },
  {
   "cell_type": "code",
   "execution_count": 155,
   "metadata": {},
   "outputs": [
    {
     "name": "stdout",
     "output_type": "stream",
     "text": [
      "17.985116 million new teaching positions\n",
      "400 % increase in teachers\n",
      "If millions of new entry level horse teacher positions don't solve unemployment, nothing will\n"
     ]
    }
   ],
   "source": [
    "new_teach = 17985116/million\n",
    "print(new_teach,'million new teaching positions')\n",
    "print(round(100*(new_teach - teacher_pop)/teacher_pop),'% increase in teachers')"
   ]
  },
  {
   "cell_type": "code",
   "execution_count": 178,
   "metadata": {},
   "outputs": [
    {
     "name": "stdout",
     "output_type": "stream",
     "text": [
      "The new teachers cost $ 989 million annually\n",
      "These new public teachers increase our education budget by 917 %\n",
      "and our overall budget by 27 %\n",
      "The increase in teacher salaries is more expensive than our entire military budget ($859 billion)...Finally we are spending more on education than our military!\n"
     ]
    }
   ],
   "source": [
    "teacher_salary = 55000*(new_teach*million)/billion\n",
    "edu_budget = 107.9\n",
    "tot_budget = 4109.0\n",
    "new_edu = teacher_salary+edu_budget\n",
    "print('The new teachers cost $',round(teacher_salary),'million annually')\n",
    "print('These new public teachers increase our education budget by',\n",
    "      round(100*(new_edu-edu_budget)/edu_budget),'%')\n",
    "print('and our overall budget by',\n",
    "      round(100*(new_edu/tot_budget)),'%')\n",
    "print('The increase in teacher salaries \\\n",
    "is more expensive than our entire military budget ($859 billion)...\\\n",
    "Finally we are spending more on education than our military!')\n",
    "\n"
   ]
  },
  {
   "cell_type": "code",
   "execution_count": 171,
   "metadata": {},
   "outputs": [
    {
     "name": "stdout",
     "output_type": "stream",
     "text": [
      "$ 3025.3 per person in taxes to pay for these new teachers\n"
     ]
    }
   ],
   "source": [
    "print('$',round(teacher_salary/(pop_data[-1]/1000),2),\n",
    "      'per person in taxes to pay for these new teachers')"
   ]
  },
  {
   "cell_type": "markdown",
   "metadata": {},
   "source": [
    "# If millions of new entry level horse teacher positions don't solve unemployment, nothing will"
   ]
  },
  {
   "cell_type": "code",
   "execution_count": null,
   "metadata": {},
   "outputs": [],
   "source": []
  }
 ],
 "metadata": {
  "kernelspec": {
   "display_name": "Python 3",
   "language": "python",
   "name": "python3"
  },
  "language_info": {
   "codemirror_mode": {
    "name": "ipython",
    "version": 3
   },
   "file_extension": ".py",
   "mimetype": "text/x-python",
   "name": "python",
   "nbconvert_exporter": "python",
   "pygments_lexer": "ipython3",
   "version": "3.6.5"
  }
 },
 "nbformat": 4,
 "nbformat_minor": 2
}
