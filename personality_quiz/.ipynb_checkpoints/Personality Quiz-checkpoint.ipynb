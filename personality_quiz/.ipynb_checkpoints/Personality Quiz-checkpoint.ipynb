{
 "cells": [
  {
   "cell_type": "markdown",
   "metadata": {},
   "source": [
    "# MBTI Personality Quiz"
   ]
  },
  {
   "cell_type": "code",
   "execution_count": 1,
   "metadata": {},
   "outputs": [],
   "source": [
    "# All info from this packet: https://d3jc3ahdjad7x7.cloudfront.net/spokaLTFBEADL9JnMd7njgJd96nyp7YNgICG2tlJWifcI7GP.pdf"
   ]
  },
  {
   "cell_type": "code",
   "execution_count": null,
   "metadata": {},
   "outputs": [],
   "source": []
  },
  {
   "cell_type": "code",
   "execution_count": 42,
   "metadata": {},
   "outputs": [],
   "source": [
    "import numpy as np\n",
    "import pandas as pd\n",
    "\n",
    "choices = np.array([-1,1])\n",
    "user = np.random.choice(choices,size=70,p=[0.6,0.4])\n",
    "friend = np.random.choice(choices,size=70,p=[0.3,0.7])\n",
    "\n",
    "# user_pd = pd.Series(user)\n",
    "# friend_pd = pd.Series(friend)\n",
    "\n",
    "personality_pd = pd.DataFrame({'User':user,'FriendA':friend},index=range(70))\n"
   ]
  },
  {
   "cell_type": "code",
   "execution_count": 44,
   "metadata": {},
   "outputs": [
    {
     "data": {
      "text/html": [
       "<div>\n",
       "<style scoped>\n",
       "    .dataframe tbody tr th:only-of-type {\n",
       "        vertical-align: middle;\n",
       "    }\n",
       "\n",
       "    .dataframe tbody tr th {\n",
       "        vertical-align: top;\n",
       "    }\n",
       "\n",
       "    .dataframe thead th {\n",
       "        text-align: right;\n",
       "    }\n",
       "</style>\n",
       "<table border=\"1\" class=\"dataframe\">\n",
       "  <thead>\n",
       "    <tr style=\"text-align: right;\">\n",
       "      <th></th>\n",
       "      <th>User</th>\n",
       "      <th>FriendA</th>\n",
       "    </tr>\n",
       "  </thead>\n",
       "  <tbody>\n",
       "    <tr>\n",
       "      <th>0</th>\n",
       "      <td>-1</td>\n",
       "      <td>-1</td>\n",
       "    </tr>\n",
       "    <tr>\n",
       "      <th>1</th>\n",
       "      <td>-1</td>\n",
       "      <td>1</td>\n",
       "    </tr>\n",
       "    <tr>\n",
       "      <th>2</th>\n",
       "      <td>-1</td>\n",
       "      <td>1</td>\n",
       "    </tr>\n",
       "    <tr>\n",
       "      <th>3</th>\n",
       "      <td>1</td>\n",
       "      <td>-1</td>\n",
       "    </tr>\n",
       "    <tr>\n",
       "      <th>4</th>\n",
       "      <td>-1</td>\n",
       "      <td>1</td>\n",
       "    </tr>\n",
       "  </tbody>\n",
       "</table>\n",
       "</div>"
      ],
      "text/plain": [
       "   User  FriendA\n",
       "0    -1       -1\n",
       "1    -1        1\n",
       "2    -1        1\n",
       "3     1       -1\n",
       "4    -1        1"
      ]
     },
     "execution_count": 44,
     "metadata": {},
     "output_type": "execute_result"
    }
   ],
   "source": [
    "personality_pd.head()"
   ]
  },
  {
   "cell_type": "code",
   "execution_count": 62,
   "metadata": {},
   "outputs": [],
   "source": [
    "personality_dict = dict()\n",
    "\n",
    "for col in personality_pd.columns:\n",
    "    quiz = personality_pd[col].values\n",
    "    \n",
    "    first = 0\n",
    "    last = 64\n",
    "    \n",
    "    ei = sum([quiz[i] for i in range(first,last,7)])\n",
    "    sn = sum([quiz[i] for i in range(first+1,last+1,7)]) + sum([quiz[i] for i in range(first+2,last+2,7)])\n",
    "    tf = sum([quiz[i] for i in range(first+3,last+3,7)]) + sum([quiz[i] for i in range(first+4,last+4,7)])\n",
    "    jp = sum([quiz[i] for i in range(first+5,last+5,7)]) + sum([quiz[i] for i in range(first+6,last+6,7)])\n",
    "    \n",
    "    \n",
    "    personality_dict[col] = {'ei':ei,'sn':sn,'tf':tf,'jp':jp}\n",
    "    "
   ]
  },
  {
   "cell_type": "code",
   "execution_count": 60,
   "metadata": {},
   "outputs": [],
   "source": [
    "# EI is out of 10 questions\n",
    "# SN is out of 20 questions\n",
    "# TF is out of 20 questions\n",
    "# JP is out of 20 questions"
   ]
  },
  {
   "cell_type": "code",
   "execution_count": 65,
   "metadata": {},
   "outputs": [
    {
     "data": {
      "text/plain": [
       "{'User': {'ei': -4, 'sn': -8, 'tf': 2, 'jp': 2},\n",
       " 'FriendA': {'ei': 4, 'sn': 8, 'tf': 4, 'jp': 14}}"
      ]
     },
     "execution_count": 65,
     "metadata": {},
     "output_type": "execute_result"
    }
   ],
   "source": [
    "personality_dict"
   ]
  },
  {
   "cell_type": "code",
   "execution_count": 74,
   "metadata": {},
   "outputs": [
    {
     "name": "stdout",
     "output_type": "stream",
     "text": [
      "User\n",
      "FriendA\n"
     ]
    }
   ],
   "source": [
    "for i in personality_dict.keys():\n",
    "    print(i)"
   ]
  },
  {
   "cell_type": "code",
   "execution_count": 78,
   "metadata": {},
   "outputs": [
    {
     "data": {
      "text/plain": [
       "array([1., 1.])"
      ]
     },
     "execution_count": 78,
     "metadata": {},
     "output_type": "execute_result"
    }
   ],
   "source": [
    "np.zeros(len(ei))+1"
   ]
  },
  {
   "cell_type": "code",
   "execution_count": null,
   "metadata": {},
   "outputs": [],
   "source": []
  },
  {
   "cell_type": "code",
   "execution_count": 90,
   "metadata": {},
   "outputs": [
    {
     "data": {
      "image/png": "[encoded data removed]",
      "text/plain": [
       "<Figure size 432x288 with 1 Axes>"
      ]
     },
     "metadata": {},
     "output_type": "display_data"
    }
   ],
   "source": [
    "import matplotlib.pyplot as plt\n",
    "\n",
    "ei = [personality_dict[i]['ei'] for i in personality_dict.keys()]*2\n",
    "sn = [personality_dict[i]['sn'] for i in personality_dict.keys()]\n",
    "tf = [personality_dict[i]['tf'] for i in personality_dict.keys()]\n",
    "jp = [personality_dict[i]['jp'] for i in personality_dict.keys()]\n",
    "\n",
    "line_lengths = [-20,20]\n",
    "x_vals = np.zeros(len(ei))+1\n",
    "\n",
    "plt.axis('off')\n",
    "\n",
    "plt.plot(line_lengths,[4,4],label='Introvert vs. Extrovert',color='#814374')\n",
    "plt.plot(ei,x_vals*4,linestyle = 'None',marker='.', markersize=12,color='#CDBB79')\n",
    "\n",
    "plt.plot(line_lengths,[3,3],label='Sensory vs. Intuitive',color='#51A39D')\n",
    "plt.plot(sn,x_vals*4,linestyle = 'None',marker='.', markersize=12,color='#CDBB79')\n",
    "\n",
    "plt.plot(line_lengths,[2,2],label='Thinking vs. Feeling',color='#B7695C')\n",
    "plt.plot(line_lengths,[1,1],label='Judging vs. Perceptive',color='#06425C')\n",
    "\n",
    "plt.plot()\n",
    "plt.legend()\n",
    "plt.show()"
   ]
  },
  {
   "cell_type": "code",
   "execution_count": null,
   "metadata": {},
   "outputs": [],
   "source": []
  }
 ],
 "metadata": {
  "kernelspec": {
   "display_name": "Python 3",
   "language": "python",
   "name": "python3"
  },
  "language_info": {
   "codemirror_mode": {
    "name": "ipython",
    "version": 3
   },
   "file_extension": ".py",
   "mimetype": "text/x-python",
   "name": "python",
   "nbconvert_exporter": "python",
   "pygments_lexer": "ipython3",
   "version": "3.6.8"
  }
 },
 "nbformat": 4,
 "nbformat_minor": 2
}
