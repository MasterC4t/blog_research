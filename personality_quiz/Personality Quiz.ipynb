{
 "cells": [
  {
   "cell_type": "markdown",
   "metadata": {},
   "source": [
    "# MBTI Personality Quiz"
   ]
  },
  {
   "cell_type": "code",
   "execution_count": 1,
   "metadata": {},
   "outputs": [],
   "source": [
    "# All info from this packet: https://d3jc3ahdjad7x7.cloudfront.net/spokaLTFBEADL9JnMd7njgJd96nyp7YNgICG2tlJWifcI7GP.pdf"
   ]
  },
  {
   "cell_type": "code",
   "execution_count": null,
   "metadata": {},
   "outputs": [],
   "source": []
  },
  {
   "cell_type": "code",
   "execution_count": 129,
   "metadata": {},
   "outputs": [],
   "source": [
    "import numpy as np\n",
    "import pandas as pd\n",
    "\n",
    "choices = np.array([-1,1])\n",
    "user = np.random.choice(choices,size=70,p=[0.6,0.4])\n",
    "friend = np.random.choice(choices,size=70,p=[0.3,0.7])\n",
    "friend2 = np.random.choice(choices,size=70,p=[0.6,0.4])\n",
    "friend3 = np.random.choice(choices,size=70,p=[0.7,0.3])\n",
    "\n",
    "# user_pd = pd.Series(user)\n",
    "# friend_pd = pd.Series(friend)\n",
    "\n",
    "personality_pd = pd.DataFrame({'User':user,'FriendA':friend,'FriendB':friend2, 'FriendC':friend3},index=range(70))\n"
   ]
  },
  {
   "cell_type": "code",
   "execution_count": 130,
   "metadata": {},
   "outputs": [
    {
     "data": {
      "text/html": [
       "<div>\n",
       "<style scoped>\n",
       "    .dataframe tbody tr th:only-of-type {\n",
       "        vertical-align: middle;\n",
       "    }\n",
       "\n",
       "    .dataframe tbody tr th {\n",
       "        vertical-align: top;\n",
       "    }\n",
       "\n",
       "    .dataframe thead th {\n",
       "        text-align: right;\n",
       "    }\n",
       "</style>\n",
       "<table border=\"1\" class=\"dataframe\">\n",
       "  <thead>\n",
       "    <tr style=\"text-align: right;\">\n",
       "      <th></th>\n",
       "      <th>User</th>\n",
       "      <th>FriendA</th>\n",
       "      <th>FriendB</th>\n",
       "      <th>FriendC</th>\n",
       "    </tr>\n",
       "  </thead>\n",
       "  <tbody>\n",
       "    <tr>\n",
       "      <th>0</th>\n",
       "      <td>1</td>\n",
       "      <td>-1</td>\n",
       "      <td>-1</td>\n",
       "      <td>1</td>\n",
       "    </tr>\n",
       "    <tr>\n",
       "      <th>1</th>\n",
       "      <td>-1</td>\n",
       "      <td>-1</td>\n",
       "      <td>1</td>\n",
       "      <td>-1</td>\n",
       "    </tr>\n",
       "    <tr>\n",
       "      <th>2</th>\n",
       "      <td>-1</td>\n",
       "      <td>-1</td>\n",
       "      <td>-1</td>\n",
       "      <td>-1</td>\n",
       "    </tr>\n",
       "    <tr>\n",
       "      <th>3</th>\n",
       "      <td>-1</td>\n",
       "      <td>-1</td>\n",
       "      <td>-1</td>\n",
       "      <td>-1</td>\n",
       "    </tr>\n",
       "    <tr>\n",
       "      <th>4</th>\n",
       "      <td>-1</td>\n",
       "      <td>-1</td>\n",
       "      <td>-1</td>\n",
       "      <td>-1</td>\n",
       "    </tr>\n",
       "  </tbody>\n",
       "</table>\n",
       "</div>"
      ],
      "text/plain": [
       "   User  FriendA  FriendB  FriendC\n",
       "0     1       -1       -1        1\n",
       "1    -1       -1        1       -1\n",
       "2    -1       -1       -1       -1\n",
       "3    -1       -1       -1       -1\n",
       "4    -1       -1       -1       -1"
      ]
     },
     "execution_count": 130,
     "metadata": {},
     "output_type": "execute_result"
    }
   ],
   "source": [
    "personality_pd.head()"
   ]
  },
  {
   "cell_type": "code",
   "execution_count": 131,
   "metadata": {},
   "outputs": [],
   "source": [
    "personality_dict = dict()\n",
    "\n",
    "for col in personality_pd.columns:\n",
    "    quiz = personality_pd[col].values\n",
    "    \n",
    "    first = 0\n",
    "    last = 64\n",
    "    \n",
    "    ei = sum([quiz[i] for i in range(first,last,7)])\n",
    "    sn = sum([quiz[i] for i in range(first+1,last+1,7)]) + sum([quiz[i] for i in range(first+2,last+2,7)])\n",
    "    tf = sum([quiz[i] for i in range(first+3,last+3,7)]) + sum([quiz[i] for i in range(first+4,last+4,7)])\n",
    "    jp = sum([quiz[i] for i in range(first+5,last+5,7)]) + sum([quiz[i] for i in range(first+6,last+6,7)])\n",
    "    \n",
    "    \n",
    "    personality_dict[col] = {'ei':ei,'sn':sn,'tf':tf,'jp':jp}\n",
    "    "
   ]
  },
  {
   "cell_type": "code",
   "execution_count": 132,
   "metadata": {},
   "outputs": [],
   "source": [
    "# EI is out of 10 questions\n",
    "# SN is out of 20 questions\n",
    "# TF is out of 20 questions\n",
    "# JP is out of 20 questions"
   ]
  },
  {
   "cell_type": "code",
   "execution_count": 133,
   "metadata": {},
   "outputs": [
    {
     "data": {
      "text/plain": [
       "{'User': {'ei': -2, 'sn': -10, 'tf': -2, 'jp': 0},\n",
       " 'FriendA': {'ei': 2, 'sn': -2, 'tf': 12, 'jp': 8},\n",
       " 'FriendB': {'ei': 2, 'sn': 4, 'tf': -10, 'jp': -4},\n",
       " 'FriendC': {'ei': -4, 'sn': -14, 'tf': -10, 'jp': -4}}"
      ]
     },
     "execution_count": 133,
     "metadata": {},
     "output_type": "execute_result"
    }
   ],
   "source": [
    "personality_dict"
   ]
  },
  {
   "cell_type": "code",
   "execution_count": 134,
   "metadata": {},
   "outputs": [
    {
     "name": "stdout",
     "output_type": "stream",
     "text": [
      "User\n",
      "FriendA\n",
      "FriendB\n",
      "FriendC\n"
     ]
    }
   ],
   "source": [
    "for i in personality_dict.keys():\n",
    "    print(i)"
   ]
  },
  {
   "cell_type": "code",
   "execution_count": 143,
   "metadata": {},
   "outputs": [
    {
     "data": {
      "image/png": "[encoded data removed]",
      "text/plain": [
       "<Figure size 432x288 with 1 Axes>"
      ]
     },
     "metadata": {},
     "output_type": "display_data"
    }
   ],
   "source": [
    "import matplotlib.pyplot as plt\n",
    "\n",
    "ei = [personality_dict[i]['ei']*2 for i in personality_dict.keys()]\n",
    "sn = [personality_dict[i]['sn'] for i in personality_dict.keys()]\n",
    "tf = [personality_dict[i]['tf'] for i in personality_dict.keys()]\n",
    "jp = [personality_dict[i]['jp'] for i in personality_dict.keys()]\n",
    "\n",
    "line_lengths = [-20,20]\n",
    "x_vals = np.zeros(len(ei))+1\n",
    "\n",
    "plt.axis('off')\n",
    "\n",
    "plt.plot(line_lengths,[4,4],label='Introvert vs. Extrovert',color='#814374')\n",
    "\n",
    "plt.plot(line_lengths,[3,3],label='Sensory vs. Intuitive',color='#51A39D')\n",
    "\n",
    "plt.plot(line_lengths,[2,2],label='Thinking vs. Feeling',color='#B7695C')\n",
    "\n",
    "plt.plot(line_lengths,[1,1],label='Judging vs. Perceptive',color='#06425C')\n",
    "\n",
    "plt.plot([0,0],[0,5],color='lightgrey',linestyle='--')\n",
    "\n",
    "li = 4\n",
    "for i in [ei,sn,tf,jp]:\n",
    "    # alpha could be how valuable you hold their opinion, \n",
    "    plt.plot(i,x_vals*li,linestyle = 'None',marker='.', markersize=10,color='#CDBB79',alpha=0.5)\n",
    "    plt.scatter([np.mean(i)],[li],color='blue')\n",
    "    li-= 1\n",
    "plt.ylim([0.8,4.2])\n",
    "plt.legend(fontsize='small')\n",
    "plt.show()"
   ]
  },
  {
   "cell_type": "code",
   "execution_count": null,
   "metadata": {},
   "outputs": [],
   "source": []
  }
 ],
 "metadata": {
  "kernelspec": {
   "display_name": "Python 3",
   "language": "python",
   "name": "python3"
  },
  "language_info": {
   "codemirror_mode": {
    "name": "ipython",
    "version": 3
   },
   "file_extension": ".py",
   "mimetype": "text/x-python",
   "name": "python",
   "nbconvert_exporter": "python",
   "pygments_lexer": "ipython3",
   "version": "3.6.8"
  }
 },
 "nbformat": 4,
 "nbformat_minor": 2
}
